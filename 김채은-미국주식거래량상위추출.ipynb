{
 "cells": [
  {
   "cell_type": "markdown",
   "id": "3620e05c",
   "metadata": {},
   "source": [
    "# 미국 주식 거래량 상위 종목 추출 및 이메일 전송\n",
    "- 이 프로그램은 야후 파이낸스 Most Active Stocks 100개 종목을 추출해 거래량,시가총액 등 기준에 따라 변형하여 사용할 수 있는 프로그램입니다.\n",
    "- csv 파일과 그래프를 메일로 전송할 수 있습니다."
   ]
  },
  {
   "cell_type": "markdown",
   "id": "3b64b264",
   "metadata": {},
   "source": [
    "## Requests 라이브러리 설치"
   ]
  },
  {
   "cell_type": "code",
   "execution_count": 84,
   "id": "0c193d39",
   "metadata": {},
   "outputs": [],
   "source": [
    "!pip install requests --upgrade --quiet\n",
    "import requests"
   ]
  },
  {
   "cell_type": "code",
   "execution_count": 85,
   "id": "2adf5de1",
   "metadata": {},
   "outputs": [],
   "source": [
    "url = 'https://finance.yahoo.com/most-active?count=100&offset=0'\n",
    "\n",
    "headers = {'User-Agent' : 'Mozilla/5.0 (Windows NT 10.0; Win64; x64) AppleWebKit/537.36 (KHTML, like Gecko) Chrome/104.0.0.0 Safari/537.36',\n",
    "           'From' : 'shiningchae@gmail.com'\n",
    "          }\n",
    "\n",
    "response = requests.get(url, headers=headers)"
   ]
  },
  {
   "cell_type": "code",
   "execution_count": 86,
   "id": "b6633bdd",
   "metadata": {},
   "outputs": [
    {
     "data": {
      "text/plain": [
       "200"
      ]
     },
     "execution_count": 86,
     "metadata": {},
     "output_type": "execute_result"
    }
   ],
   "source": [
    "response.status_code"
   ]
  },
  {
   "cell_type": "code",
   "execution_count": 87,
   "id": "ed21d2af",
   "metadata": {},
   "outputs": [
    {
     "data": {
      "text/plain": [
       "'<!DOCTYPE html><html data-color-theme=\"light\" id=\"atomic\" class=\"NoJs chrome desktop\" lang=\"en-US\"><head prefix=\"og: http://ogp.me/ns#\"><script>window.performance && window.performance.mark && window.performance.mark(\\'PageStart\\');</script><meta charSet=\"utf-8\"/><title>Most Active Stocks Today - Yahoo Finance</title><meta name=\"keywords\" content=\"Stock Screener, industry, index membership, share data, stock price, market cap, beta, sales, profitability, valuation ratios, analyst estimates, large cap value, bargain growth, preset stock screens\"/><meta http-equiv=\"x-dns-prefetch-control\" content=\"on\"/><meta property=\"twitter:dnt\" content=\"on\"/><meta property=\"fb:app_id\" content=\"458584288257241\"/><meta name=\"theme-color\" content=\"#400090\"/><meta name=\"viewport\" content=\"width=device-width, initial-scale=1\"/><meta name=\"description\" lang=\"en-US\" content=\"See the list of the most active stocks today, including share price change and percentage, trading volume, intraday highs and lows, and d'"
      ]
     },
     "execution_count": 87,
     "metadata": {},
     "output_type": "execute_result"
    }
   ],
   "source": [
    "url_contents = response.text\n",
    "\n",
    "url_contents[:1000]"
   ]
  },
  {
   "cell_type": "markdown",
   "id": "a431820c",
   "metadata": {},
   "source": [
    "## URL을 html 파일로 저장하기"
   ]
  },
  {
   "cell_type": "code",
   "execution_count": 88,
   "id": "7599c66a",
   "metadata": {},
   "outputs": [],
   "source": [
    "with open('yahoo-finance-most_active.html', 'w', encoding=\"utf-8\") as file:\n",
    "    file.write(url_contents)"
   ]
  },
  {
   "cell_type": "code",
   "execution_count": 89,
   "id": "b0ef1028",
   "metadata": {},
   "outputs": [],
   "source": [
    "def download_web_page(url, html_title):\n",
    "    headers = {'User-Agent' : 'Mozilla/5.0 (Windows NT 10.0; Win64; x64) AppleWebKit/537.36 (KHTML, like Gecko) Chrome/104.0.0.0 Safari/537.36',\n",
    "           'From' : 'shiningchae@gmail.com'\n",
    "              }\n",
    "    response = requests.get(url, headers=headers)\n",
    "    status_code = response.status_code\n",
    "    if status_code in range(200,300):\n",
    "        url_contents = response.text\n",
    "        with open('new-downloaded-web-page.html', 'w', encoding=\"utf-8\") as file:\n",
    "            file.write(url_contents)\n",
    "        print('Status code is within an okay range of {}.'.format(status_code))\n",
    "        \n",
    "    else:\n",
    "        return"
   ]
  },
  {
   "cell_type": "markdown",
   "id": "78bea934",
   "metadata": {},
   "source": [
    "## 문자열 파싱을 위한 BeautifulSoup 라이브러리 설치"
   ]
  },
  {
   "cell_type": "code",
   "execution_count": 90,
   "id": "f0fafeba",
   "metadata": {},
   "outputs": [],
   "source": [
    "!pip install beautifulsoup4 --upgrade --quiet\n",
    "from bs4 import BeautifulSoup"
   ]
  },
  {
   "cell_type": "code",
   "execution_count": 91,
   "id": "7fdda4b4",
   "metadata": {},
   "outputs": [
    {
     "data": {
      "text/plain": [
       "1400622"
      ]
     },
     "execution_count": 91,
     "metadata": {},
     "output_type": "execute_result"
    }
   ],
   "source": [
    "with open('yahoo-finance-most_active.html', 'r') as f:\n",
    "    html_source = f.read()\n",
    "    \n",
    "len(html_source)"
   ]
  },
  {
   "cell_type": "code",
   "execution_count": 92,
   "id": "96d31ac3",
   "metadata": {},
   "outputs": [],
   "source": [
    "doc = BeautifulSoup(html_source, 'html.parser')"
   ]
  },
  {
   "cell_type": "code",
   "execution_count": 93,
   "id": "2eab4a38",
   "metadata": {},
   "outputs": [
    {
     "data": {
      "text/plain": [
       "'Most Active Stocks Today - Yahoo Finance'"
      ]
     },
     "execution_count": 93,
     "metadata": {},
     "output_type": "execute_result"
    }
   ],
   "source": [
    "title = doc.title\n",
    "\n",
    "title.text"
   ]
  },
  {
   "cell_type": "code",
   "execution_count": 94,
   "id": "a6e5114b",
   "metadata": {},
   "outputs": [
    {
     "data": {
      "text/plain": [
       "[<tr class=\"simpTblRow Bgc($hoverBgColor):h BdB Bdbc($seperatorColor) Bdbc($tableBorderBlue):h H(32px) Bgc($lv2BgColor)\"><td aria-label=\"Symbol\" class=\"Va(m) Ta(start) Pstart(6px) Pend(10px) Miw(90px) Start(0) Pend(10px) simpTblRow:h_Bgc($hoverBgColor) Pos(st) Bgc($lv3BgColor) Z(1) Bgc($lv2BgColor) Ta(start)! Fz(s)\" colspan=\"\"><label class=\"Ta(c) Pos(r) Va(tb) Pend(5px) D(n)--print\" data-id=\"portfolio-checkbox\"><input class=\"Pos(a) V(h)\" type=\"checkbox\"/><svg class=\"Va(m)! H(16px) W(16px) Stk($plusGray)! Fill($plusGray)! Cur(p)\" data-icon=\"checkbox-unchecked\" height=\"16\" style=\"fill:#000;stroke:#000;stroke-width:0;vertical-align:bottom\" viewbox=\"0 0 24 24\" width=\"16\"><path d=\"M3 3h18v18H3V3zm19-2H2c-.553 0-1 .448-1 1v20c0 .552.447 1 1 1h20c.552 0 1-.448 1-1V2c0-.552-.448-1-1-1z\"></path></svg></label><a class=\"Fw(600) C($linkColor)\" data-test=\"quoteLink\" href=\"/quote/AMD?p=AMD\" title=\"Advanced Micro Devices, Inc.\">AMD</a><div class=\"W(3px) Pos(a) Start(100%) T(0) H(100%) Bg($pfColumnFakeShadowGradient) Pe(n) Pend(5px)\"></div></td><td aria-label=\"Name\" class=\"Va(m) Ta(start) Px(10px) Fz(s)\" colspan=\"\">Advanced Micro Devices, Inc.</td><td aria-label=\"Price (Intraday)\" class=\"Va(m) Ta(end) Pstart(20px) Fw(600) Fz(s)\" colspan=\"\"><fin-streamer active=\"\" class=\"\" data-field=\"regularMarketPrice\" data-pricehint=\"2\" data-symbol=\"AMD\" data-test=\"colorChange\" data-trend=\"none\" value=\"80.24\">80.24</fin-streamer></td><td aria-label=\"Change\" class=\"Va(m) Ta(end) Pstart(20px) Fw(600) Fz(s)\" colspan=\"\"><fin-streamer active=\"\" class=\"Fw(600)\" data-field=\"regularMarketChange\" data-pricehint=\"2\" data-symbol=\"AMD\" data-test=\"colorChange\" data-trend=\"txt\" value=\"-2.090004\"><span class=\"C($negativeColor)\">-2.09</span></fin-streamer></td><td aria-label=\"% Change\" class=\"Va(m) Ta(end) Pstart(20px) Fw(600) Fz(s)\" colspan=\"\"><fin-streamer active=\"\" class=\"Fw(600)\" data-field=\"regularMarketChangePercent\" data-pricehint=\"2\" data-symbol=\"AMD\" data-test=\"colorChange\" data-trend=\"txt\" value=\"-2.538569\"><span class=\"C($negativeColor)\">-2.54%</span></fin-streamer></td><td aria-label=\"Volume\" class=\"Va(m) Ta(end) Pstart(20px) Fz(s)\" colspan=\"\"><fin-streamer active=\"\" class=\"\" data-field=\"regularMarketVolume\" data-pricehint=\"2\" data-symbol=\"AMD\" data-test=\"colorChange\" data-trend=\"none\" value=\"84924445\">84.924M</fin-streamer></td><td aria-label=\"Avg Vol (3 month)\" class=\"Va(m) Ta(end) Pstart(20px) Fz(s)\" colspan=\"\">84.344M</td><td aria-label=\"Market Cap\" class=\"Va(m) Ta(end) Pstart(20px) Pend(10px) W(120px) Fz(s)\" colspan=\"\"><fin-streamer active=\"\" class=\"\" data-field=\"marketCap\" data-pricehint=\"2\" data-symbol=\"AMD\" data-test=\"colorChange\" data-trend=\"none\" value=\"129533034496\">129.533B</fin-streamer></td><td aria-label=\"PE Ratio (TTM)\" class=\"Va(m) Ta(end) Pstart(20px) Fz(s)\" colspan=\"\">35.19</td><td aria-label=\"52 Week Range\" class=\"Va(m) Ta(end) Pstart(20px) Pend(6px) Fz(s)\" colspan=\"\"><canvas style=\"width:140px;height:23px\"></canvas></td></tr>,\n",
       " <tr class=\"simpTblRow Bgc($hoverBgColor):h BdB Bdbc($seperatorColor) Bdbc($tableBorderBlue):h H(32px) Bgc($lv1BgColor)\"><td aria-label=\"Symbol\" class=\"Va(m) Ta(start) Pstart(6px) Pend(10px) Miw(90px) Start(0) Pend(10px) simpTblRow:h_Bgc($hoverBgColor) Pos(st) Bgc($lv3BgColor) Z(1) Bgc($lv1BgColor) Ta(start)! Fz(s)\" colspan=\"\"><label class=\"Ta(c) Pos(r) Va(tb) Pend(5px) D(n)--print\" data-id=\"portfolio-checkbox\"><input class=\"Pos(a) V(h)\" type=\"checkbox\"/><svg class=\"Va(m)! H(16px) W(16px) Stk($plusGray)! Fill($plusGray)! Cur(p)\" data-icon=\"checkbox-unchecked\" height=\"16\" style=\"fill:#000;stroke:#000;stroke-width:0;vertical-align:bottom\" viewbox=\"0 0 24 24\" width=\"16\"><path d=\"M3 3h18v18H3V3zm19-2H2c-.553 0-1 .448-1 1v20c0 .552.447 1 1 1h20c.552 0 1-.448 1-1V2c0-.552-.448-1-1-1z\"></path></svg></label><a class=\"Fw(600) C($linkColor)\" data-test=\"quoteLink\" href=\"/quote/AAPL?p=AAPL\" title=\"Apple Inc.\">AAPL</a><div class=\"W(3px) Pos(a) Start(100%) T(0) H(100%) Bg($pfColumnFakeShadowGradient) Pe(n) Pend(5px)\"></div></td><td aria-label=\"Name\" class=\"Va(m) Ta(start) Px(10px) Fz(s)\" colspan=\"\">Apple Inc.</td><td aria-label=\"Price (Intraday)\" class=\"Va(m) Ta(end) Pstart(20px) Fw(600) Fz(s)\" colspan=\"\"><fin-streamer active=\"\" class=\"\" data-field=\"regularMarketPrice\" data-pricehint=\"2\" data-symbol=\"AAPL\" data-test=\"colorChange\" data-trend=\"none\" value=\"155.81\">155.81</fin-streamer></td><td aria-label=\"Change\" class=\"Va(m) Ta(end) Pstart(20px) Fw(600) Fz(s)\" colspan=\"\"><fin-streamer active=\"\" class=\"Fw(600)\" data-field=\"regularMarketChange\" data-pricehint=\"2\" data-symbol=\"AAPL\" data-test=\"colorChange\" data-trend=\"txt\" value=\"-2.1500092\"><span class=\"C($negativeColor)\">-2.15</span></fin-streamer></td><td aria-label=\"% Change\" class=\"Va(m) Ta(end) Pstart(20px) Fw(600) Fz(s)\" colspan=\"\"><fin-streamer active=\"\" class=\"Fw(600)\" data-field=\"regularMarketChangePercent\" data-pricehint=\"2\" data-symbol=\"AAPL\" data-test=\"colorChange\" data-trend=\"txt\" value=\"-1.3611097\"><span class=\"C($negativeColor)\">-1.36%</span></fin-streamer></td><td aria-label=\"Volume\" class=\"Va(m) Ta(end) Pstart(20px) Fz(s)\" colspan=\"\"><fin-streamer active=\"\" class=\"\" data-field=\"regularMarketVolume\" data-pricehint=\"2\" data-symbol=\"AAPL\" data-test=\"colorChange\" data-trend=\"none\" value=\"76957768\">76.958M</fin-streamer></td><td aria-label=\"Avg Vol (3 month)\" class=\"Va(m) Ta(end) Pstart(20px) Fz(s)\" colspan=\"\">73.365M</td><td aria-label=\"Market Cap\" class=\"Va(m) Ta(end) Pstart(20px) Pend(10px) W(120px) Fz(s)\" colspan=\"\"><fin-streamer active=\"\" class=\"\" data-field=\"marketCap\" data-pricehint=\"2\" data-symbol=\"AAPL\" data-test=\"colorChange\" data-trend=\"none\" value=\"2503991361536\">2.504T</fin-streamer></td><td aria-label=\"PE Ratio (TTM)\" class=\"Va(m) Ta(end) Pstart(20px) Fz(s)\" colspan=\"\">25.75</td><td aria-label=\"52 Week Range\" class=\"Va(m) Ta(end) Pstart(20px) Pend(6px) Fz(s)\" colspan=\"\"><canvas style=\"width:140px;height:23px\"></canvas></td></tr>]"
      ]
     },
     "execution_count": 94,
     "metadata": {},
     "output_type": "execute_result"
    }
   ],
   "source": [
    "# 주식 정보는 tr_tag에 위치해 있음. 모든 클래스 타입에 공통되는 simpTblRow 클래스를 사용\n",
    "\n",
    "tr_class_tags = doc.find_all('tr',class_='simpTblRow')\n",
    "tr_class_tags[:2]"
   ]
  },
  {
   "cell_type": "markdown",
   "id": "5e416ddf",
   "metadata": {},
   "source": [
    "## most active stocks에는 상위 100개의 주식이 있으므로 100개가 맞는지를 확인하기"
   ]
  },
  {
   "cell_type": "code",
   "execution_count": 95,
   "id": "72ff3c6d",
   "metadata": {},
   "outputs": [
    {
     "name": "stdout",
     "output_type": "stream",
     "text": [
      "We have the correct amount of tr tags.\n"
     ]
    }
   ],
   "source": [
    "tr_tag_amount = len(tr_class_tags)\n",
    "if tr_tag_amount == 100:\n",
    "    print(\"We have the correct amount of tr tags.\")"
   ]
  },
  {
   "cell_type": "markdown",
   "id": "957d4bcf",
   "metadata": {},
   "source": [
    "## 첫번째 tr_tag는 거래량 1순위인 AMD임을 확인할 수 있음"
   ]
  },
  {
   "cell_type": "code",
   "execution_count": 96,
   "id": "de031126",
   "metadata": {},
   "outputs": [
    {
     "data": {
      "text/plain": [
       "<tr class=\"simpTblRow Bgc($hoverBgColor):h BdB Bdbc($seperatorColor) Bdbc($tableBorderBlue):h H(32px) Bgc($lv2BgColor)\"><td aria-label=\"Symbol\" class=\"Va(m) Ta(start) Pstart(6px) Pend(10px) Miw(90px) Start(0) Pend(10px) simpTblRow:h_Bgc($hoverBgColor) Pos(st) Bgc($lv3BgColor) Z(1) Bgc($lv2BgColor) Ta(start)! Fz(s)\" colspan=\"\"><label class=\"Ta(c) Pos(r) Va(tb) Pend(5px) D(n)--print\" data-id=\"portfolio-checkbox\"><input class=\"Pos(a) V(h)\" type=\"checkbox\"/><svg class=\"Va(m)! H(16px) W(16px) Stk($plusGray)! Fill($plusGray)! Cur(p)\" data-icon=\"checkbox-unchecked\" height=\"16\" style=\"fill:#000;stroke:#000;stroke-width:0;vertical-align:bottom\" viewbox=\"0 0 24 24\" width=\"16\"><path d=\"M3 3h18v18H3V3zm19-2H2c-.553 0-1 .448-1 1v20c0 .552.447 1 1 1h20c.552 0 1-.448 1-1V2c0-.552-.448-1-1-1z\"></path></svg></label><a class=\"Fw(600) C($linkColor)\" data-test=\"quoteLink\" href=\"/quote/AMD?p=AMD\" title=\"Advanced Micro Devices, Inc.\">AMD</a><div class=\"W(3px) Pos(a) Start(100%) T(0) H(100%) Bg($pfColumnFakeShadowGradient) Pe(n) Pend(5px)\"></div></td><td aria-label=\"Name\" class=\"Va(m) Ta(start) Px(10px) Fz(s)\" colspan=\"\">Advanced Micro Devices, Inc.</td><td aria-label=\"Price (Intraday)\" class=\"Va(m) Ta(end) Pstart(20px) Fw(600) Fz(s)\" colspan=\"\"><fin-streamer active=\"\" class=\"\" data-field=\"regularMarketPrice\" data-pricehint=\"2\" data-symbol=\"AMD\" data-test=\"colorChange\" data-trend=\"none\" value=\"80.24\">80.24</fin-streamer></td><td aria-label=\"Change\" class=\"Va(m) Ta(end) Pstart(20px) Fw(600) Fz(s)\" colspan=\"\"><fin-streamer active=\"\" class=\"Fw(600)\" data-field=\"regularMarketChange\" data-pricehint=\"2\" data-symbol=\"AMD\" data-test=\"colorChange\" data-trend=\"txt\" value=\"-2.090004\"><span class=\"C($negativeColor)\">-2.09</span></fin-streamer></td><td aria-label=\"% Change\" class=\"Va(m) Ta(end) Pstart(20px) Fw(600) Fz(s)\" colspan=\"\"><fin-streamer active=\"\" class=\"Fw(600)\" data-field=\"regularMarketChangePercent\" data-pricehint=\"2\" data-symbol=\"AMD\" data-test=\"colorChange\" data-trend=\"txt\" value=\"-2.538569\"><span class=\"C($negativeColor)\">-2.54%</span></fin-streamer></td><td aria-label=\"Volume\" class=\"Va(m) Ta(end) Pstart(20px) Fz(s)\" colspan=\"\"><fin-streamer active=\"\" class=\"\" data-field=\"regularMarketVolume\" data-pricehint=\"2\" data-symbol=\"AMD\" data-test=\"colorChange\" data-trend=\"none\" value=\"84924445\">84.924M</fin-streamer></td><td aria-label=\"Avg Vol (3 month)\" class=\"Va(m) Ta(end) Pstart(20px) Fz(s)\" colspan=\"\">84.344M</td><td aria-label=\"Market Cap\" class=\"Va(m) Ta(end) Pstart(20px) Pend(10px) W(120px) Fz(s)\" colspan=\"\"><fin-streamer active=\"\" class=\"\" data-field=\"marketCap\" data-pricehint=\"2\" data-symbol=\"AMD\" data-test=\"colorChange\" data-trend=\"none\" value=\"129533034496\">129.533B</fin-streamer></td><td aria-label=\"PE Ratio (TTM)\" class=\"Va(m) Ta(end) Pstart(20px) Fz(s)\" colspan=\"\">35.19</td><td aria-label=\"52 Week Range\" class=\"Va(m) Ta(end) Pstart(20px) Pend(6px) Fz(s)\" colspan=\"\"><canvas style=\"width:140px;height:23px\"></canvas></td></tr>"
      ]
     },
     "execution_count": 96,
     "metadata": {},
     "output_type": "execute_result"
    }
   ],
   "source": [
    "tr_class_tag1 = tr_class_tags[0]\n",
    "tr_class_tag1"
   ]
  },
  {
   "cell_type": "markdown",
   "id": "d55971d1",
   "metadata": {},
   "source": [
    "## tr_tag 아래 td_tag에 주식 티커를 추출할 a_tag가 있음\n",
    "- 주식 티커는 주식을 나타내는 일종의 줄임말임"
   ]
  },
  {
   "cell_type": "code",
   "execution_count": 97,
   "id": "bccf6972",
   "metadata": {},
   "outputs": [
    {
     "data": {
      "text/plain": [
       "[<td aria-label=\"Symbol\" class=\"Va(m) Ta(start) Pstart(6px) Pend(10px) Miw(90px) Start(0) Pend(10px) simpTblRow:h_Bgc($hoverBgColor) Pos(st) Bgc($lv3BgColor) Z(1) Bgc($lv2BgColor) Ta(start)! Fz(s)\" colspan=\"\"><label class=\"Ta(c) Pos(r) Va(tb) Pend(5px) D(n)--print\" data-id=\"portfolio-checkbox\"><input class=\"Pos(a) V(h)\" type=\"checkbox\"/><svg class=\"Va(m)! H(16px) W(16px) Stk($plusGray)! Fill($plusGray)! Cur(p)\" data-icon=\"checkbox-unchecked\" height=\"16\" style=\"fill:#000;stroke:#000;stroke-width:0;vertical-align:bottom\" viewbox=\"0 0 24 24\" width=\"16\"><path d=\"M3 3h18v18H3V3zm19-2H2c-.553 0-1 .448-1 1v20c0 .552.447 1 1 1h20c.552 0 1-.448 1-1V2c0-.552-.448-1-1-1z\"></path></svg></label><a class=\"Fw(600) C($linkColor)\" data-test=\"quoteLink\" href=\"/quote/AMD?p=AMD\" title=\"Advanced Micro Devices, Inc.\">AMD</a><div class=\"W(3px) Pos(a) Start(100%) T(0) H(100%) Bg($pfColumnFakeShadowGradient) Pe(n) Pend(5px)\"></div></td>,\n",
       " <td aria-label=\"Name\" class=\"Va(m) Ta(start) Px(10px) Fz(s)\" colspan=\"\">Advanced Micro Devices, Inc.</td>,\n",
       " <td aria-label=\"Price (Intraday)\" class=\"Va(m) Ta(end) Pstart(20px) Fw(600) Fz(s)\" colspan=\"\"><fin-streamer active=\"\" class=\"\" data-field=\"regularMarketPrice\" data-pricehint=\"2\" data-symbol=\"AMD\" data-test=\"colorChange\" data-trend=\"none\" value=\"80.24\">80.24</fin-streamer></td>,\n",
       " <td aria-label=\"Change\" class=\"Va(m) Ta(end) Pstart(20px) Fw(600) Fz(s)\" colspan=\"\"><fin-streamer active=\"\" class=\"Fw(600)\" data-field=\"regularMarketChange\" data-pricehint=\"2\" data-symbol=\"AMD\" data-test=\"colorChange\" data-trend=\"txt\" value=\"-2.090004\"><span class=\"C($negativeColor)\">-2.09</span></fin-streamer></td>,\n",
       " <td aria-label=\"% Change\" class=\"Va(m) Ta(end) Pstart(20px) Fw(600) Fz(s)\" colspan=\"\"><fin-streamer active=\"\" class=\"Fw(600)\" data-field=\"regularMarketChangePercent\" data-pricehint=\"2\" data-symbol=\"AMD\" data-test=\"colorChange\" data-trend=\"txt\" value=\"-2.538569\"><span class=\"C($negativeColor)\">-2.54%</span></fin-streamer></td>,\n",
       " <td aria-label=\"Volume\" class=\"Va(m) Ta(end) Pstart(20px) Fz(s)\" colspan=\"\"><fin-streamer active=\"\" class=\"\" data-field=\"regularMarketVolume\" data-pricehint=\"2\" data-symbol=\"AMD\" data-test=\"colorChange\" data-trend=\"none\" value=\"84924445\">84.924M</fin-streamer></td>,\n",
       " <td aria-label=\"Avg Vol (3 month)\" class=\"Va(m) Ta(end) Pstart(20px) Fz(s)\" colspan=\"\">84.344M</td>,\n",
       " <td aria-label=\"Market Cap\" class=\"Va(m) Ta(end) Pstart(20px) Pend(10px) W(120px) Fz(s)\" colspan=\"\"><fin-streamer active=\"\" class=\"\" data-field=\"marketCap\" data-pricehint=\"2\" data-symbol=\"AMD\" data-test=\"colorChange\" data-trend=\"none\" value=\"129533034496\">129.533B</fin-streamer></td>,\n",
       " <td aria-label=\"PE Ratio (TTM)\" class=\"Va(m) Ta(end) Pstart(20px) Fz(s)\" colspan=\"\">35.19</td>,\n",
       " <td aria-label=\"52 Week Range\" class=\"Va(m) Ta(end) Pstart(20px) Pend(6px) Fz(s)\" colspan=\"\"><canvas style=\"width:140px;height:23px\"></canvas></td>]"
      ]
     },
     "execution_count": 97,
     "metadata": {},
     "output_type": "execute_result"
    }
   ],
   "source": [
    "td_tag = tr_class_tag1.find_all('td')\n",
    "td_tag"
   ]
  },
  {
   "cell_type": "code",
   "execution_count": 98,
   "id": "addb0f0d",
   "metadata": {},
   "outputs": [
    {
     "data": {
      "text/plain": [
       "[<a class=\"Fw(600) C($linkColor)\" data-test=\"quoteLink\" href=\"/quote/AMD?p=AMD\" title=\"Advanced Micro Devices, Inc.\">AMD</a>]"
      ]
     },
     "execution_count": 98,
     "metadata": {},
     "output_type": "execute_result"
    }
   ],
   "source": [
    "a_tag = td_tag[0].find_all('a', recursive=False)\n",
    "a_tag"
   ]
  },
  {
   "cell_type": "code",
   "execution_count": 99,
   "id": "44329601",
   "metadata": {},
   "outputs": [
    {
     "data": {
      "text/plain": [
       "'AMD'"
      ]
     },
     "execution_count": 99,
     "metadata": {},
     "output_type": "execute_result"
    }
   ],
   "source": [
    "ticker_name = a_tag[0].text.strip()\n",
    "ticker_name"
   ]
  },
  {
   "cell_type": "code",
   "execution_count": 100,
   "id": "63f81b0b",
   "metadata": {},
   "outputs": [
    {
     "data": {
      "text/plain": [
       "'Advanced Micro Devices, Inc.'"
      ]
     },
     "execution_count": 100,
     "metadata": {},
     "output_type": "execute_result"
    }
   ],
   "source": [
    "name_tag = td_tag[1].text\n",
    "name_tag"
   ]
  },
  {
   "cell_type": "code",
   "execution_count": 101,
   "id": "44642e72",
   "metadata": {},
   "outputs": [
    {
     "data": {
      "text/plain": [
       "'80.24'"
      ]
     },
     "execution_count": 101,
     "metadata": {},
     "output_type": "execute_result"
    }
   ],
   "source": [
    "price_tag = td_tag[2].text\n",
    "price_tag"
   ]
  },
  {
   "cell_type": "code",
   "execution_count": 102,
   "id": "d060bec4",
   "metadata": {},
   "outputs": [
    {
     "data": {
      "text/plain": [
       "'-2.09'"
      ]
     },
     "execution_count": 102,
     "metadata": {},
     "output_type": "execute_result"
    }
   ],
   "source": [
    "daily_change_tag = td_tag[3].text\n",
    "daily_change_tag"
   ]
  },
  {
   "cell_type": "code",
   "execution_count": 103,
   "id": "9c5863a9",
   "metadata": {},
   "outputs": [
    {
     "data": {
      "text/plain": [
       "'-2.54%'"
      ]
     },
     "execution_count": 103,
     "metadata": {},
     "output_type": "execute_result"
    }
   ],
   "source": [
    "daily_percentage_change_tag = td_tag[4].text\n",
    "daily_percentage_change_tag"
   ]
  },
  {
   "cell_type": "code",
   "execution_count": 104,
   "id": "fc13c834",
   "metadata": {},
   "outputs": [
    {
     "data": {
      "text/plain": [
       "'84.924M'"
      ]
     },
     "execution_count": 104,
     "metadata": {},
     "output_type": "execute_result"
    }
   ],
   "source": [
    "volume_tag = td_tag[5].text\n",
    "volume_tag"
   ]
  },
  {
   "cell_type": "code",
   "execution_count": 105,
   "id": "49e0dfc7",
   "metadata": {},
   "outputs": [
    {
     "data": {
      "text/plain": [
       "'84.344M'"
      ]
     },
     "execution_count": 105,
     "metadata": {},
     "output_type": "execute_result"
    }
   ],
   "source": [
    "avg_volume_tag = td_tag[6].text\n",
    "avg_volume_tag"
   ]
  },
  {
   "cell_type": "code",
   "execution_count": 106,
   "id": "5f017a1b",
   "metadata": {},
   "outputs": [
    {
     "data": {
      "text/plain": [
       "'129.533B'"
      ]
     },
     "execution_count": 106,
     "metadata": {},
     "output_type": "execute_result"
    }
   ],
   "source": [
    "market_cap_tag = td_tag[7].text\n",
    "market_cap_tag"
   ]
  },
  {
   "cell_type": "code",
   "execution_count": 107,
   "id": "1e8970ee",
   "metadata": {},
   "outputs": [
    {
     "data": {
      "text/plain": [
       "'35.19'"
      ]
     },
     "execution_count": 107,
     "metadata": {},
     "output_type": "execute_result"
    }
   ],
   "source": [
    "pe_ratio_tag = td_tag[8].text\n",
    "pe_ratio_tag"
   ]
  },
  {
   "cell_type": "markdown",
   "id": "5ae5eb47",
   "metadata": {},
   "source": [
    "## M,k,B 등을 백만, 천만, 10억으로 각각 나타내는 방법"
   ]
  },
  {
   "cell_type": "code",
   "execution_count": 108,
   "id": "7ad10e7c",
   "metadata": {},
   "outputs": [],
   "source": [
    "def parse_volume_market_tag(tag):\n",
    "    volume_str = tag.strip()\n",
    "    if volume_str[-1] == 'M':\n",
    "        return int(float(volume_str[:-1]) * 1000000)\n",
    "    elif volume_str[-1] == 'k':\n",
    "        return int(float(volume_str[:-1]) * 1000)\n",
    "    elif volume_str[-1] == 'B':\n",
    "        return int(float(volume_str[:-1]) * 1000000000)    \n",
    "    elif volume_str[-1] == 'T':\n",
    "        return int(float(volume_str[:-1]) * 1000000000000)\n",
    "    else:\n",
    "        return int(float(volume_str))"
   ]
  },
  {
   "cell_type": "code",
   "execution_count": 109,
   "id": "9069ad03",
   "metadata": {},
   "outputs": [
    {
     "data": {
      "text/plain": [
       "200400000000"
      ]
     },
     "execution_count": 109,
     "metadata": {},
     "output_type": "execute_result"
    }
   ],
   "source": [
    "parse_volume_market_tag('200.4B')"
   ]
  },
  {
   "cell_type": "code",
   "execution_count": 110,
   "id": "0676a7a4",
   "metadata": {},
   "outputs": [],
   "source": [
    "def parse_stocks(tr_class_tag):\n",
    "    # <td> tags는 모든 주식 정보를 포함, <tr tags contain all of the individual details, <a> tags contain ticker name\n",
    "    td_tag = tr_class_tag.find_all('td')\n",
    "    a_tag = td_tag[0].find('a', recursive=False)\n",
    "    \n",
    "    #주식 티커\n",
    "    ticker_name = a_tag.text.strip()\n",
    "    \n",
    "    #주식 이름\n",
    "    name_tag = (td_tag[1].text).replace(\",\",\"\")\n",
    "    \n",
    "    # 종가\n",
    "    price_tag = float(td_tag[2].text)\n",
    "    \n",
    "    # 주가 변동\n",
    "    daily_change_tag = td_tag[3].text\n",
    "    \n",
    "    # 퍼센티지 변동\n",
    "    daily_percentage_change_tag = td_tag[4].text\n",
    "    \n",
    "    # 거래량\n",
    "    volume_tag = parse_volume_market_tag(td_tag[5].text)\n",
    "    \n",
    "    # 평균 거래량\n",
    "    avg_volume_tag = parse_volume_market_tag(td_tag[6].text)\n",
    "    \n",
    "    # 시가총액\n",
    "    market_cap_tag = parse_volume_market_tag(td_tag[7].text)\n",
    "    \n",
    "    # PER\n",
    "    pe_ratio_tag = td_tag[8].text\n",
    "    \n",
    "    # 딕셔너리로 리턴\n",
    "    return {\n",
    "        'Stock ticker' : ticker_name,\n",
    "        'Stock name': name_tag,\n",
    "        'Last price of stock' : price_tag,\n",
    "        'Stock change' : daily_change_tag,\n",
    "        'Stock percentage change' : daily_percentage_change_tag,\n",
    "        'Volume' : volume_tag,\n",
    "        'Average volume over 3 months' : avg_volume_tag,\n",
    "        'Market cap' : market_cap_tag,\n",
    "        'PE ratio' : pe_ratio_tag\n",
    "    }"
   ]
  },
  {
   "cell_type": "code",
   "execution_count": 111,
   "id": "acd6f679",
   "metadata": {},
   "outputs": [
    {
     "data": {
      "text/plain": [
       "{'Stock ticker': 'AMD',\n",
       " 'Stock name': 'Advanced Micro Devices Inc.',\n",
       " 'Last price of stock': 80.24,\n",
       " 'Stock change': '-2.09',\n",
       " 'Stock percentage change': '-2.54%',\n",
       " 'Volume': 84924000,\n",
       " 'Average volume over 3 months': 84344000,\n",
       " 'Market cap': 129532999999,\n",
       " 'PE ratio': '35.19'}"
      ]
     },
     "execution_count": 111,
     "metadata": {},
     "output_type": "execute_result"
    }
   ],
   "source": [
    "parse_stocks(tr_class_tags[0])"
   ]
  },
  {
   "cell_type": "code",
   "execution_count": 112,
   "id": "f0244266",
   "metadata": {},
   "outputs": [
    {
     "data": {
      "text/plain": [
       "{'Stock ticker': 'SNAP',\n",
       " 'Stock name': 'Snap Inc.',\n",
       " 'Last price of stock': 11.22,\n",
       " 'Stock change': '-0.42',\n",
       " 'Stock percentage change': '-3.61%',\n",
       " 'Volume': 45735000,\n",
       " 'Average volume over 3 months': 54759000,\n",
       " 'Market cap': 18501000000,\n",
       " 'PE ratio': 'N/A'}"
      ]
     },
     "execution_count": 112,
     "metadata": {},
     "output_type": "execute_result"
    }
   ],
   "source": [
    "parse_stocks(tr_class_tags[6])"
   ]
  },
  {
   "cell_type": "code",
   "execution_count": 113,
   "id": "f703c27b",
   "metadata": {},
   "outputs": [],
   "source": [
    "def list_tickers(tr_class_tag):\n",
    "    td_tag = tr_class_tag.find_all('td')\n",
    "    a_tag = td_tag[0].find('a', recursive=False)\n",
    "    \n",
    "    # 주식 티커\n",
    "    ticker_name = a_tag.text.strip()\n",
    "    return ticker_name"
   ]
  },
  {
   "cell_type": "code",
   "execution_count": 114,
   "id": "0479aacf",
   "metadata": {},
   "outputs": [
    {
     "data": {
      "text/plain": [
       "'TSLA'"
      ]
     },
     "execution_count": 114,
     "metadata": {},
     "output_type": "execute_result"
    }
   ],
   "source": [
    "list_tickers(tr_class_tags[5])"
   ]
  },
  {
   "cell_type": "code",
   "execution_count": 115,
   "id": "38017608",
   "metadata": {},
   "outputs": [
    {
     "data": {
      "text/plain": [
       "['AMD', 'AAPL', 'NVDA', 'F', 'AMZN', 'TSLA']"
      ]
     },
     "execution_count": 115,
     "metadata": {},
     "output_type": "execute_result"
    }
   ],
   "source": [
    "stock_tickers = [list_tickers(x) for x in tr_class_tags]\n",
    "stock_tickers[:6]"
   ]
  },
  {
   "cell_type": "code",
   "execution_count": 116,
   "id": "f6ea62a8",
   "metadata": {},
   "outputs": [
    {
     "data": {
      "text/plain": [
       "[{'Stock ticker': 'AMD',\n",
       "  'Stock name': 'Advanced Micro Devices Inc.',\n",
       "  'Last price of stock': 80.24,\n",
       "  'Stock change': '-2.09',\n",
       "  'Stock percentage change': '-2.54%',\n",
       "  'Volume': 84924000,\n",
       "  'Average volume over 3 months': 84344000,\n",
       "  'Market cap': 129532999999,\n",
       "  'PE ratio': '35.19'},\n",
       " {'Stock ticker': 'AAPL',\n",
       "  'Stock name': 'Apple Inc.',\n",
       "  'Last price of stock': 155.81,\n",
       "  'Stock change': '-2.15',\n",
       "  'Stock percentage change': '-1.36%',\n",
       "  'Volume': 76958000,\n",
       "  'Average volume over 3 months': 73365000,\n",
       "  'Market cap': 2504000000000,\n",
       "  'PE ratio': '25.75'},\n",
       " {'Stock ticker': 'NVDA',\n",
       "  'Stock name': 'NVIDIA Corporation',\n",
       "  'Last price of stock': 136.47,\n",
       "  'Stock change': '-2.90',\n",
       "  'Stock percentage change': '-2.08%',\n",
       "  'Volume': 74203000,\n",
       "  'Average volume over 3 months': 52886000,\n",
       "  'Market cap': 340083000000,\n",
       "  'PE ratio': '36.60'}]"
      ]
     },
     "execution_count": 116,
     "metadata": {},
     "output_type": "execute_result"
    }
   ],
   "source": [
    "most_active_stocks = [parse_stocks(x) for x in tr_class_tags]\n",
    "most_active_stocks[:3]"
   ]
  },
  {
   "cell_type": "markdown",
   "id": "022bd5ef",
   "metadata": {},
   "source": [
    "## CSV 파일로 만들기"
   ]
  },
  {
   "cell_type": "code",
   "execution_count": 117,
   "id": "929abbd9",
   "metadata": {},
   "outputs": [],
   "source": [
    "def write_csv(items, path):\n",
    "    with open(path, 'w') as f:\n",
    "        if len(items) == 0:\n",
    "            return\n",
    "        \n",
    "        headers = list(items[0].keys())\n",
    "        f.write(','.join(headers) + '\\n')\n",
    "        \n",
    "        for item in items:\n",
    "            values = []\n",
    "            \n",
    "            for header in headers:\n",
    "                values.append(str(item.get(header,\"\")))\n",
    "            f.write(','.join(values) + \"\\n\")\n",
    "            \n",
    "            "
   ]
  },
  {
   "cell_type": "code",
   "execution_count": 118,
   "id": "b6dabce3",
   "metadata": {},
   "outputs": [],
   "source": [
    "write_csv(most_active_stocks, 'most-active-stocks.csv')"
   ]
  },
  {
   "cell_type": "code",
   "execution_count": 119,
   "id": "7bc5dbfc",
   "metadata": {},
   "outputs": [
    {
     "name": "stdout",
     "output_type": "stream",
     "text": [
      "Stock ticker,Stock name,Last price of stock,Stock change,Stock percentage change,Volume,Average volume over 3 months,Market cap,PE ratio\n",
      "AMD,Advanced Micro Devices Inc.,80.24,-2.09,-2.54%,84924000,84344000,129532999999,35.19\n",
      "AAPL,Apple Inc.,155.81,-2.15,-1.36%,76958000,73365000,2504000000000,25.75\n",
      "NVDA,NVIDIA Corporation,136.47,-2.90,-2.08%,74203000,52886000,340083000000,36.60\n",
      "F,Ford Motor Company,15.16,-0.03,-0.20%,64565000,60943000,60947000000,5.26\n",
      "AMZN,Amazon.com Inc.,127.51,-0.31,-0.24%,57430000,64512000,1299000000000,113.85\n",
      "TSLA,Tesla Inc.,270.21,-6.95,-2.51%,49863000,83703000,846695000000,96.85\n",
      "SNAP,Snap Inc.,11.22,-0.42,-3.61%,45735000,54759000,18501000000,N/A\n",
      "NIO,NIO Inc.,17.73,-1.06,-5.64%,44132000,50948000,29659000000,N/A\n",
      "BAC,Bank of America Corporation,33.43,-0.04,-0.12%,44001000,41441000,268618000000,10.45\n",
      "CCL,Carnival Corporation & plc,9.37,+0.02,+0.21%,39678000,55062000,12018000000,N/A\n",
      "ITUB,Itaú Unibanco Holding S.A.,5.07,+0.10,+2.01%,38561000,43607000,45768000000,9.75\n",
      "T,AT&T Inc.,17.19,-0.31,-1.77%,36490000,36963000,122496000000,7.61\n",
      "INTC,Intel Corporation,31.22,-0.54,-1.70%,34893000,38974000,128189000000,6.70\n",
      "NOK,Nokia Oyj,4.93,-0.0500,-1.00%,34458000,28586000,27806000000,17.00\n",
      "VALE,Vale S.A.,12.17,+0.02,+0.16%,33699000,32650000,58646000000,3.03\n",
      "SHOP,Shopify Inc.,30.11,-1.16,-3.71%,31479000,33223000,38191000000,231.62\n",
      "SOFI,SoFi Technologies Inc.,5.74,-0.11,-1.88%,29740000,39802000,4590000000,N/A\n",
      "SWN,Southwestern Energy Company,7.38,+0.15,+2.07%,29326000,42048000,8224000000,N/A\n",
      "AUR,Aurora Innovation Inc.,2.43,+0.3200,+15.17%,27693000,3867000,2804000000,N/A\n",
      "AMC,AMC Entertainment Holdings Inc.,8.88,+0.30,+3.50%,27615000,45887000,4558000000,N/A\n",
      "NU,Nu Holdings Ltd.,4.94,+0.0400,+0.82%,27506000,26058000,23101000000,N/A\n",
      "AAL,American Airlines Group Inc.,12.99,+0.06,+0.46%,26922000,32909000,8441000000,N/A\n",
      "DNA,Ginkgo Bioworks Holdings Inc.,2.51,-0.2300,-8.39%,26671000,26112000,4480000000,N/A\n",
      "PBR,Petróleo Brasileiro S.A. - Petrobras,14.44,0.00,0.00%,26359000,31456000,90301000000,3.03\n",
      "PLTR,Palantir Technologies Inc.,7.4,-0.09,-1.20%,25965000,38025000,15275000000,N/A\n",
      "BBD,Banco Bradesco S.A.,3.68,+0.0437,+1.20%,24355000,30886000,35928000000,8.18\n",
      "GOOGL,Alphabet Inc.,107.85,-1.89,-1.72%,24078000,32188000,1412000000000,19.79\n",
      "NLY,Annaly Capital Management Inc.,6.38,0.00,0.00%,23752000,28919000,11001000000,2.55\n",
      "MSFT,Microsoft Corporation,256.06,-4.34,-1.67%,22485000,25113000,1910000000000,26.53\n",
      "OXY,Occidental Petroleum Corporation,68.77,+0.37,+0.54%,22793000,27036000,64059000000,6.76\n",
      "META,Meta Platforms Inc.,160.32,-5.04,-3.05%,22596000,28396000,430868000000,12.63\n",
      "GRAB,Grab Holdings Limited,2.96,+0.0900,+3.14%,22493000,25986000,11365000000,N/A\n",
      "PCG,PG&E Corporation,12.55,+0.02,+0.16%,21422000,13481000,30941000000,125.50\n",
      "ABEV,Ambev S.A.,2.93,+0.0500,+1.74%,21164000,33107999,47717000000,17.24\n",
      "VZ,Verizon Communications Inc.,41.3,-0.51,-1.22%,21156000,19739000,173448000000,8.29\n",
      "OKTA,Okta Inc.,64.63,+4.03,+6.65%,21050000,3383000,10268000000,N/A\n",
      "WBD,Warner Bros. Discovery Inc.,13.06,-0.13,-0.99%,20627000,24274000,31704000000,7.22\n",
      "GOOG,Alphabet Inc.,108.68,-1.87,-1.69%,20618000,26334000,1412000000000,20.13\n",
      "NCLH,Norwegian Cruise Line Holdings Ltd.,13.05,+0.04,+0.31%,20493000,20937000,5499000000,N/A\n",
      "CMCSA,Comcast Corporation,35.76,-1.14,-3.09%,20091000,22770000,157817000000,11.65\n",
      "GOLD,Barrick Gold Corporation,14.9,+0.31,+2.12%,19070000,21534000,26372000000,13.19\n",
      "PLUG,Plug Power Inc.,25.87,-1.07,-3.97%,18503000,22364000,14986000000,N/A\n",
      "XOM,Exxon Mobil Corporation,95.59,+1.72,+1.83%,18207000,23514000,398385000000,10.46\n",
      "OPEN,Opendoor Technologies Inc.,4.1,-0.1800,-4.21%,18193000,17732000,2578000000,N/A\n",
      "CDEV,Permian Resources Corporation,7.62,-0.61,-7.41%,17582000,9120000,2172000000,5.52\n",
      "CS,Credit Suisse Group AG,5.12,+0.12,+2.40%,17020000,14982000,13274000000,N/A\n",
      "SIRI,Sirius XM Holdings Inc.,6.07,-0.06,-0.98%,16925000,15706000,23638000000,19.58\n",
      "PDD,Pinduoduo Inc.,72.19,+0.77,+1.08%,16754999,13462000,91276000000,46.57\n",
      "KGC,Kinross Gold Corporation,3.28,+0.1700,+5.47%,16504999,20951000,4271000000,21.87\n",
      "DKNG,DraftKings Inc.,15.49,-0.47,-2.94%,16334000,19697000,6948000000,N/A\n",
      "PTON,Peloton Interactive Inc.,9.44,-0.84,-8.17%,16157000,14773000,3193000000,N/A\n",
      "ET,Energy Transfer LP,11.75,+0.02,+0.17%,16335000,20212000,36272000000,9.40\n",
      "HPE,Hewlett Packard Enterprise Company,13.24,-0.13,-0.97%,16070000,10214000,17203000000,4.75\n",
      "RIG,Transocean Ltd.,3.56,+0.1600,+4.71%,15573000,19200000,2512000000,N/A\n",
      "C,Citigroup Inc.,48.84,+0.09,+0.18%,15568000,19300000,94415000000,6.11\n",
      "BTG,B2Gold Corp.,3.12,+0.1900,+6.48%,15100000,12216000,3326000000,8.67\n",
      "KMI,Kinder Morgan Inc.,18.22,+0.05,+0.28%,15079000,15066000,41242000000,17.19\n",
      "CSCO,Cisco Systems Inc.,44.59,-0.70,-1.55%,14721000,20018000,184645000000,15.81\n",
      "PFE,Pfizer Inc.,45.7,-0.93,-1.99%,14668000,18706000,256483999999,8.89\n",
      "UBER,Uber Technologies Inc.,29.05,+0.13,+0.45%,14604000,29137000,57517000000,N/A\n",
      "GGB,Gerdau S.A.,4.64,+0.1700,+3.80%,13939000,17136000,7188000000,2.52\n",
      "TELL,Tellurian Inc.,4.08,+0.2300,+5.97%,13889000,16886000,2305000000,N/A\n",
      "HBAN,Huntington Bancshares Incorporated,13.32,-0.05,-0.37%,13879000,11863000,19210000000,11.68\n",
      "X,United States Steel Corporation,21.71,+0.23,+1.07%,13872000,12019000,5150000000,1.25\n",
      "FCX,Freeport-McMoRan Inc.,28.3,+0.21,+0.75%,13700000,20054000,40448000000,8.58\n",
      "LCID,Lucid Group Inc.,15.16,-0.22,-1.43%,13695000,16870000,25436000000,N/A\n",
      "JBLU,JetBlue Airways Corporation,7.63,-0.07,-0.91%,13539000,10719000,2471000000,N/A\n",
      "AUY,Yamana Gold Inc.,4.45,+0.1900,+4.46%,13353000,17296000,4285000000,15.89\n",
      "WFC,Wells Fargo & Company,43.38,-0.32,-0.73%,13026000,18546000,164543000000,10.40\n",
      "MU,Micron Technology Inc.,56.33,-0.98,-1.71%,12810000,16835000,62140000000,6.42\n",
      "MRO,Marathon Oil Corporation,25.71,+0.79,+3.17%,12718000,17143000,17421000000,6.09\n",
      "M,Macy's Inc.,17.1,+0.04,+0.23%,12715000,12369000,4634000000,3.35\n",
      "CHPT,ChargePoint Holdings Inc.,14.5,-0.81,-5.29%,12541000,10007000,4916000000,N/A\n",
      "XPEV,XPeng Inc.,16.74,-0.59,-3.40%,12415000,11246000,16152000000,N/A\n",
      "SQ,Block Inc.,66.33,-2.42,-3.52%,12390000,15231000,39148000000,N/A\n",
      "HPQ,HP Inc.,27.64,-0.53,-1.88%,12381000,8880000,28584000000,4.93\n",
      "BABA,Alibaba Group Holding Limited,91.8,-1.91,-2.04%,12379000,26946000,243751000000,42.70\n",
      "PBR-A,Petróleo Brasileiro S.A. - Petrobras,12.89,0.00,0.00%,12356000,14634000,90301000000,2.71\n",
      "MMM,3M Company,121.65,-3.98,-3.17%,12321000,7510000,69292000000,16.99\n",
      "RBLX,Roblox Corporation,37.94,-0.57,-1.48%,12156000,25868000,22641000000,N/A\n",
      "CPG,Crescent Point Energy Corp.,7.45,+0.19,+2.62%,12119000,14056000,4227999999,3.39\n",
      "BP,BP p.l.c.,31.13,+0.54,+1.77%,12041000,11740000,98608000000,N/A\n",
      "KO,The Coca-Cola Company,61.15,-0.85,-1.37%,11810000,13259000,264451000000,27.80\n",
      "SLB,Schlumberger Limited,38.07,+1.22,+3.31%,11375000,13075000,53846000000,20.80\n",
      "KSS,Kohl's Corporation,29.97,+1.60,+5.64%,11357000,5403000,3850000000,6.01\n",
      "AZN,AstraZeneca PLC,60.69,-1.10,-1.78%,11309000,6517000,190048000000,N/A\n",
      "ORCL,Oracle Corporation,74.68,-0.62,-0.82%,11028000,7336000,199017000000,30.99\n",
      "ING,ING Groep N.V.,8.6,-0.02,-0.23%,10959000,5099000,32234000000,8.35\n",
      "CSX,CSX Corporation,31.24,-0.37,-1.17%,10934000,14731000,66891999999,17.45\n",
      "CLF,Cleveland-Cliffs Inc.,16.81,+0.20,+1.20%,10914000,15719000,8696000000,2.47\n",
      "GM,General Motors Company,38.47,-0.09,-0.23%,10861000,14632000,56091000000,7.33\n",
      "GSAT,Globalstar Inc.,2.04,+0.0400,+2.00%,10851000,5429000,3674000000,N/A\n",
      "ELAN,Elanco Animal Health Incorporated,15.37,-0.01,-0.07%,10836000,5320000,7287000000,N/A\n",
      "JPM,JPMorgan Chase & Co.,113.71,-0.80,-0.70%,10667000,12050000,333463000000,9.12\n",
      "LYG,Lloyds Banking Group plc,1.96,+0.0100,+0.51%,10484000,11066000,33772000000,7.00\n",
      "STLA,Stellantis N.V.,13.09,-0.18,-1.36%,10444000,5182000,41154000000,2.71\n",
      "NEM,Newmont Corporation,41.67,+0.76,+1.86%,10426000,8822000,33073000000,44.33\n",
      "MRVL,Marvell Technology Inc.,45.76,-0.21,-0.46%,10251000,9844000,38891000000,N/A\n",
      "SBUX,Starbucks Corporation,82.94,-2.46,-2.88%,10337000,6652000,97988000000,23.36\n",
      "AFRM,Affirm Holdings Inc.,22.45,-0.71,-3.07%,10258000,14791000,6430000000,N/A\n",
      "\n"
     ]
    }
   ],
   "source": [
    "with open('most-active-stocks.csv', 'r') as f:\n",
    "    print(f.read())"
   ]
  },
  {
   "cell_type": "code",
   "execution_count": 120,
   "id": "8749f7b2",
   "metadata": {},
   "outputs": [],
   "source": [
    "import pandas as pd"
   ]
  },
  {
   "cell_type": "markdown",
   "id": "b401df3b",
   "metadata": {},
   "source": [
    "## Pandas 데이터프레임으로 나타내기"
   ]
  },
  {
   "cell_type": "code",
   "execution_count": 121,
   "id": "84488a81",
   "metadata": {},
   "outputs": [
    {
     "data": {
      "text/html": [
       "<div>\n",
       "<style scoped>\n",
       "    .dataframe tbody tr th:only-of-type {\n",
       "        vertical-align: middle;\n",
       "    }\n",
       "\n",
       "    .dataframe tbody tr th {\n",
       "        vertical-align: top;\n",
       "    }\n",
       "\n",
       "    .dataframe thead th {\n",
       "        text-align: right;\n",
       "    }\n",
       "</style>\n",
       "<table border=\"1\" class=\"dataframe\">\n",
       "  <thead>\n",
       "    <tr style=\"text-align: right;\">\n",
       "      <th></th>\n",
       "      <th>Stock ticker</th>\n",
       "      <th>Stock name</th>\n",
       "      <th>Last price of stock</th>\n",
       "      <th>Stock change</th>\n",
       "      <th>Stock percentage change</th>\n",
       "      <th>Volume</th>\n",
       "      <th>Average volume over 3 months</th>\n",
       "      <th>Market cap</th>\n",
       "      <th>PE ratio</th>\n",
       "    </tr>\n",
       "  </thead>\n",
       "  <tbody>\n",
       "    <tr>\n",
       "      <th>0</th>\n",
       "      <td>AMD</td>\n",
       "      <td>Advanced Micro Devices Inc.</td>\n",
       "      <td>80.24</td>\n",
       "      <td>-2.09</td>\n",
       "      <td>-2.54%</td>\n",
       "      <td>84924000</td>\n",
       "      <td>84344000</td>\n",
       "      <td>129532999999</td>\n",
       "      <td>35.19</td>\n",
       "    </tr>\n",
       "    <tr>\n",
       "      <th>1</th>\n",
       "      <td>AAPL</td>\n",
       "      <td>Apple Inc.</td>\n",
       "      <td>155.81</td>\n",
       "      <td>-2.15</td>\n",
       "      <td>-1.36%</td>\n",
       "      <td>76958000</td>\n",
       "      <td>73365000</td>\n",
       "      <td>2504000000000</td>\n",
       "      <td>25.75</td>\n",
       "    </tr>\n",
       "    <tr>\n",
       "      <th>2</th>\n",
       "      <td>NVDA</td>\n",
       "      <td>NVIDIA Corporation</td>\n",
       "      <td>136.47</td>\n",
       "      <td>-2.90</td>\n",
       "      <td>-2.08%</td>\n",
       "      <td>74203000</td>\n",
       "      <td>52886000</td>\n",
       "      <td>340083000000</td>\n",
       "      <td>36.60</td>\n",
       "    </tr>\n",
       "    <tr>\n",
       "      <th>3</th>\n",
       "      <td>F</td>\n",
       "      <td>Ford Motor Company</td>\n",
       "      <td>15.16</td>\n",
       "      <td>-0.03</td>\n",
       "      <td>-0.20%</td>\n",
       "      <td>64565000</td>\n",
       "      <td>60943000</td>\n",
       "      <td>60947000000</td>\n",
       "      <td>5.26</td>\n",
       "    </tr>\n",
       "    <tr>\n",
       "      <th>4</th>\n",
       "      <td>AMZN</td>\n",
       "      <td>Amazon.com Inc.</td>\n",
       "      <td>127.51</td>\n",
       "      <td>-0.31</td>\n",
       "      <td>-0.24%</td>\n",
       "      <td>57430000</td>\n",
       "      <td>64512000</td>\n",
       "      <td>1299000000000</td>\n",
       "      <td>113.85</td>\n",
       "    </tr>\n",
       "    <tr>\n",
       "      <th>...</th>\n",
       "      <td>...</td>\n",
       "      <td>...</td>\n",
       "      <td>...</td>\n",
       "      <td>...</td>\n",
       "      <td>...</td>\n",
       "      <td>...</td>\n",
       "      <td>...</td>\n",
       "      <td>...</td>\n",
       "      <td>...</td>\n",
       "    </tr>\n",
       "    <tr>\n",
       "      <th>95</th>\n",
       "      <td>STLA</td>\n",
       "      <td>Stellantis N.V.</td>\n",
       "      <td>13.09</td>\n",
       "      <td>-0.18</td>\n",
       "      <td>-1.36%</td>\n",
       "      <td>10444000</td>\n",
       "      <td>5182000</td>\n",
       "      <td>41154000000</td>\n",
       "      <td>2.71</td>\n",
       "    </tr>\n",
       "    <tr>\n",
       "      <th>96</th>\n",
       "      <td>NEM</td>\n",
       "      <td>Newmont Corporation</td>\n",
       "      <td>41.67</td>\n",
       "      <td>0.76</td>\n",
       "      <td>+1.86%</td>\n",
       "      <td>10426000</td>\n",
       "      <td>8822000</td>\n",
       "      <td>33073000000</td>\n",
       "      <td>44.33</td>\n",
       "    </tr>\n",
       "    <tr>\n",
       "      <th>97</th>\n",
       "      <td>MRVL</td>\n",
       "      <td>Marvell Technology Inc.</td>\n",
       "      <td>45.76</td>\n",
       "      <td>-0.21</td>\n",
       "      <td>-0.46%</td>\n",
       "      <td>10251000</td>\n",
       "      <td>9844000</td>\n",
       "      <td>38891000000</td>\n",
       "      <td>NaN</td>\n",
       "    </tr>\n",
       "    <tr>\n",
       "      <th>98</th>\n",
       "      <td>SBUX</td>\n",
       "      <td>Starbucks Corporation</td>\n",
       "      <td>82.94</td>\n",
       "      <td>-2.46</td>\n",
       "      <td>-2.88%</td>\n",
       "      <td>10337000</td>\n",
       "      <td>6652000</td>\n",
       "      <td>97988000000</td>\n",
       "      <td>23.36</td>\n",
       "    </tr>\n",
       "    <tr>\n",
       "      <th>99</th>\n",
       "      <td>AFRM</td>\n",
       "      <td>Affirm Holdings Inc.</td>\n",
       "      <td>22.45</td>\n",
       "      <td>-0.71</td>\n",
       "      <td>-3.07%</td>\n",
       "      <td>10258000</td>\n",
       "      <td>14791000</td>\n",
       "      <td>6430000000</td>\n",
       "      <td>NaN</td>\n",
       "    </tr>\n",
       "  </tbody>\n",
       "</table>\n",
       "<p>100 rows × 9 columns</p>\n",
       "</div>"
      ],
      "text/plain": [
       "   Stock ticker                   Stock name  Last price of stock  \\\n",
       "0           AMD  Advanced Micro Devices Inc.                80.24   \n",
       "1          AAPL                   Apple Inc.               155.81   \n",
       "2          NVDA           NVIDIA Corporation               136.47   \n",
       "3             F           Ford Motor Company                15.16   \n",
       "4          AMZN              Amazon.com Inc.               127.51   \n",
       "..          ...                          ...                  ...   \n",
       "95         STLA              Stellantis N.V.                13.09   \n",
       "96          NEM          Newmont Corporation                41.67   \n",
       "97         MRVL      Marvell Technology Inc.                45.76   \n",
       "98         SBUX        Starbucks Corporation                82.94   \n",
       "99         AFRM         Affirm Holdings Inc.                22.45   \n",
       "\n",
       "    Stock change Stock percentage change    Volume  \\\n",
       "0          -2.09                  -2.54%  84924000   \n",
       "1          -2.15                  -1.36%  76958000   \n",
       "2          -2.90                  -2.08%  74203000   \n",
       "3          -0.03                  -0.20%  64565000   \n",
       "4          -0.31                  -0.24%  57430000   \n",
       "..           ...                     ...       ...   \n",
       "95         -0.18                  -1.36%  10444000   \n",
       "96          0.76                  +1.86%  10426000   \n",
       "97         -0.21                  -0.46%  10251000   \n",
       "98         -2.46                  -2.88%  10337000   \n",
       "99         -0.71                  -3.07%  10258000   \n",
       "\n",
       "    Average volume over 3 months     Market cap  PE ratio  \n",
       "0                       84344000   129532999999     35.19  \n",
       "1                       73365000  2504000000000     25.75  \n",
       "2                       52886000   340083000000     36.60  \n",
       "3                       60943000    60947000000      5.26  \n",
       "4                       64512000  1299000000000    113.85  \n",
       "..                           ...            ...       ...  \n",
       "95                       5182000    41154000000      2.71  \n",
       "96                       8822000    33073000000     44.33  \n",
       "97                       9844000    38891000000       NaN  \n",
       "98                       6652000    97988000000     23.36  \n",
       "99                      14791000     6430000000       NaN  \n",
       "\n",
       "[100 rows x 9 columns]"
      ]
     },
     "execution_count": 121,
     "metadata": {},
     "output_type": "execute_result"
    }
   ],
   "source": [
    "most_active_df = pd.read_csv('most-active-stocks.csv')\n",
    "most_active_df"
   ]
  },
  {
   "cell_type": "markdown",
   "id": "4651029f",
   "metadata": {},
   "source": [
    "## 시가총액 순으로 나열"
   ]
  },
  {
   "cell_type": "code",
   "execution_count": 122,
   "id": "9c19df4e",
   "metadata": {},
   "outputs": [
    {
     "data": {
      "text/html": [
       "<div>\n",
       "<style scoped>\n",
       "    .dataframe tbody tr th:only-of-type {\n",
       "        vertical-align: middle;\n",
       "    }\n",
       "\n",
       "    .dataframe tbody tr th {\n",
       "        vertical-align: top;\n",
       "    }\n",
       "\n",
       "    .dataframe thead th {\n",
       "        text-align: right;\n",
       "    }\n",
       "</style>\n",
       "<table border=\"1\" class=\"dataframe\">\n",
       "  <thead>\n",
       "    <tr style=\"text-align: right;\">\n",
       "      <th></th>\n",
       "      <th>Stock ticker</th>\n",
       "      <th>Stock name</th>\n",
       "      <th>Last price of stock</th>\n",
       "      <th>Stock change</th>\n",
       "      <th>Stock percentage change</th>\n",
       "      <th>Volume</th>\n",
       "      <th>Average volume over 3 months</th>\n",
       "      <th>Market cap</th>\n",
       "      <th>PE ratio</th>\n",
       "    </tr>\n",
       "  </thead>\n",
       "  <tbody>\n",
       "    <tr>\n",
       "      <th>1</th>\n",
       "      <td>AAPL</td>\n",
       "      <td>Apple Inc.</td>\n",
       "      <td>155.81</td>\n",
       "      <td>-2.15</td>\n",
       "      <td>-1.36%</td>\n",
       "      <td>76958000</td>\n",
       "      <td>73365000</td>\n",
       "      <td>2504000000000</td>\n",
       "      <td>25.75</td>\n",
       "    </tr>\n",
       "    <tr>\n",
       "      <th>28</th>\n",
       "      <td>MSFT</td>\n",
       "      <td>Microsoft Corporation</td>\n",
       "      <td>256.06</td>\n",
       "      <td>-4.34</td>\n",
       "      <td>-1.67%</td>\n",
       "      <td>22485000</td>\n",
       "      <td>25113000</td>\n",
       "      <td>1910000000000</td>\n",
       "      <td>26.53</td>\n",
       "    </tr>\n",
       "    <tr>\n",
       "      <th>37</th>\n",
       "      <td>GOOG</td>\n",
       "      <td>Alphabet Inc.</td>\n",
       "      <td>108.68</td>\n",
       "      <td>-1.87</td>\n",
       "      <td>-1.69%</td>\n",
       "      <td>20618000</td>\n",
       "      <td>26334000</td>\n",
       "      <td>1412000000000</td>\n",
       "      <td>20.13</td>\n",
       "    </tr>\n",
       "    <tr>\n",
       "      <th>26</th>\n",
       "      <td>GOOGL</td>\n",
       "      <td>Alphabet Inc.</td>\n",
       "      <td>107.85</td>\n",
       "      <td>-1.89</td>\n",
       "      <td>-1.72%</td>\n",
       "      <td>24078000</td>\n",
       "      <td>32188000</td>\n",
       "      <td>1412000000000</td>\n",
       "      <td>19.79</td>\n",
       "    </tr>\n",
       "    <tr>\n",
       "      <th>4</th>\n",
       "      <td>AMZN</td>\n",
       "      <td>Amazon.com Inc.</td>\n",
       "      <td>127.51</td>\n",
       "      <td>-0.31</td>\n",
       "      <td>-0.24%</td>\n",
       "      <td>57430000</td>\n",
       "      <td>64512000</td>\n",
       "      <td>1299000000000</td>\n",
       "      <td>113.85</td>\n",
       "    </tr>\n",
       "    <tr>\n",
       "      <th>...</th>\n",
       "      <td>...</td>\n",
       "      <td>...</td>\n",
       "      <td>...</td>\n",
       "      <td>...</td>\n",
       "      <td>...</td>\n",
       "      <td>...</td>\n",
       "      <td>...</td>\n",
       "      <td>...</td>\n",
       "      <td>...</td>\n",
       "    </tr>\n",
       "    <tr>\n",
       "      <th>43</th>\n",
       "      <td>OPEN</td>\n",
       "      <td>Opendoor Technologies Inc.</td>\n",
       "      <td>4.10</td>\n",
       "      <td>-0.18</td>\n",
       "      <td>-4.21%</td>\n",
       "      <td>18193000</td>\n",
       "      <td>17732000</td>\n",
       "      <td>2578000000</td>\n",
       "      <td>NaN</td>\n",
       "    </tr>\n",
       "    <tr>\n",
       "      <th>53</th>\n",
       "      <td>RIG</td>\n",
       "      <td>Transocean Ltd.</td>\n",
       "      <td>3.56</td>\n",
       "      <td>0.16</td>\n",
       "      <td>+4.71%</td>\n",
       "      <td>15573000</td>\n",
       "      <td>19200000</td>\n",
       "      <td>2512000000</td>\n",
       "      <td>NaN</td>\n",
       "    </tr>\n",
       "    <tr>\n",
       "      <th>66</th>\n",
       "      <td>JBLU</td>\n",
       "      <td>JetBlue Airways Corporation</td>\n",
       "      <td>7.63</td>\n",
       "      <td>-0.07</td>\n",
       "      <td>-0.91%</td>\n",
       "      <td>13539000</td>\n",
       "      <td>10719000</td>\n",
       "      <td>2471000000</td>\n",
       "      <td>NaN</td>\n",
       "    </tr>\n",
       "    <tr>\n",
       "      <th>61</th>\n",
       "      <td>TELL</td>\n",
       "      <td>Tellurian Inc.</td>\n",
       "      <td>4.08</td>\n",
       "      <td>0.23</td>\n",
       "      <td>+5.97%</td>\n",
       "      <td>13889000</td>\n",
       "      <td>16886000</td>\n",
       "      <td>2305000000</td>\n",
       "      <td>NaN</td>\n",
       "    </tr>\n",
       "    <tr>\n",
       "      <th>44</th>\n",
       "      <td>CDEV</td>\n",
       "      <td>Permian Resources Corporation</td>\n",
       "      <td>7.62</td>\n",
       "      <td>-0.61</td>\n",
       "      <td>-7.41%</td>\n",
       "      <td>17582000</td>\n",
       "      <td>9120000</td>\n",
       "      <td>2172000000</td>\n",
       "      <td>5.52</td>\n",
       "    </tr>\n",
       "  </tbody>\n",
       "</table>\n",
       "<p>100 rows × 9 columns</p>\n",
       "</div>"
      ],
      "text/plain": [
       "   Stock ticker                     Stock name  Last price of stock  \\\n",
       "1          AAPL                     Apple Inc.               155.81   \n",
       "28         MSFT          Microsoft Corporation               256.06   \n",
       "37         GOOG                  Alphabet Inc.               108.68   \n",
       "26        GOOGL                  Alphabet Inc.               107.85   \n",
       "4          AMZN                Amazon.com Inc.               127.51   \n",
       "..          ...                            ...                  ...   \n",
       "43         OPEN     Opendoor Technologies Inc.                 4.10   \n",
       "53          RIG                Transocean Ltd.                 3.56   \n",
       "66         JBLU    JetBlue Airways Corporation                 7.63   \n",
       "61         TELL                 Tellurian Inc.                 4.08   \n",
       "44         CDEV  Permian Resources Corporation                 7.62   \n",
       "\n",
       "    Stock change Stock percentage change    Volume  \\\n",
       "1          -2.15                  -1.36%  76958000   \n",
       "28         -4.34                  -1.67%  22485000   \n",
       "37         -1.87                  -1.69%  20618000   \n",
       "26         -1.89                  -1.72%  24078000   \n",
       "4          -0.31                  -0.24%  57430000   \n",
       "..           ...                     ...       ...   \n",
       "43         -0.18                  -4.21%  18193000   \n",
       "53          0.16                  +4.71%  15573000   \n",
       "66         -0.07                  -0.91%  13539000   \n",
       "61          0.23                  +5.97%  13889000   \n",
       "44         -0.61                  -7.41%  17582000   \n",
       "\n",
       "    Average volume over 3 months     Market cap  PE ratio  \n",
       "1                       73365000  2504000000000     25.75  \n",
       "28                      25113000  1910000000000     26.53  \n",
       "37                      26334000  1412000000000     20.13  \n",
       "26                      32188000  1412000000000     19.79  \n",
       "4                       64512000  1299000000000    113.85  \n",
       "..                           ...            ...       ...  \n",
       "43                      17732000     2578000000       NaN  \n",
       "53                      19200000     2512000000       NaN  \n",
       "66                      10719000     2471000000       NaN  \n",
       "61                      16886000     2305000000       NaN  \n",
       "44                       9120000     2172000000      5.52  \n",
       "\n",
       "[100 rows x 9 columns]"
      ]
     },
     "execution_count": 122,
     "metadata": {},
     "output_type": "execute_result"
    }
   ],
   "source": [
    "order_by_mark_cap_df = most_active_df.sort_values('Market cap', ascending=False)\n",
    "order_by_mark_cap_df"
   ]
  },
  {
   "cell_type": "markdown",
   "id": "1f3e2148",
   "metadata": {},
   "source": [
    "## PE Ratio 순으로 나열"
   ]
  },
  {
   "cell_type": "code",
   "execution_count": 123,
   "id": "16659a20",
   "metadata": {},
   "outputs": [
    {
     "data": {
      "text/html": [
       "<div>\n",
       "<style scoped>\n",
       "    .dataframe tbody tr th:only-of-type {\n",
       "        vertical-align: middle;\n",
       "    }\n",
       "\n",
       "    .dataframe tbody tr th {\n",
       "        vertical-align: top;\n",
       "    }\n",
       "\n",
       "    .dataframe thead th {\n",
       "        text-align: right;\n",
       "    }\n",
       "</style>\n",
       "<table border=\"1\" class=\"dataframe\">\n",
       "  <thead>\n",
       "    <tr style=\"text-align: right;\">\n",
       "      <th></th>\n",
       "      <th>Stock ticker</th>\n",
       "      <th>Stock name</th>\n",
       "      <th>Last price of stock</th>\n",
       "      <th>Stock change</th>\n",
       "      <th>Stock percentage change</th>\n",
       "      <th>Volume</th>\n",
       "      <th>Average volume over 3 months</th>\n",
       "      <th>Market cap</th>\n",
       "      <th>PE ratio</th>\n",
       "    </tr>\n",
       "  </thead>\n",
       "  <tbody>\n",
       "    <tr>\n",
       "      <th>15</th>\n",
       "      <td>SHOP</td>\n",
       "      <td>Shopify Inc.</td>\n",
       "      <td>30.11</td>\n",
       "      <td>-1.16</td>\n",
       "      <td>-3.71%</td>\n",
       "      <td>31479000</td>\n",
       "      <td>33223000</td>\n",
       "      <td>38191000000</td>\n",
       "      <td>231.62</td>\n",
       "    </tr>\n",
       "    <tr>\n",
       "      <th>32</th>\n",
       "      <td>PCG</td>\n",
       "      <td>PG&amp;E Corporation</td>\n",
       "      <td>12.55</td>\n",
       "      <td>0.02</td>\n",
       "      <td>+0.16%</td>\n",
       "      <td>21422000</td>\n",
       "      <td>13481000</td>\n",
       "      <td>30941000000</td>\n",
       "      <td>125.50</td>\n",
       "    </tr>\n",
       "    <tr>\n",
       "      <th>4</th>\n",
       "      <td>AMZN</td>\n",
       "      <td>Amazon.com Inc.</td>\n",
       "      <td>127.51</td>\n",
       "      <td>-0.31</td>\n",
       "      <td>-0.24%</td>\n",
       "      <td>57430000</td>\n",
       "      <td>64512000</td>\n",
       "      <td>1299000000000</td>\n",
       "      <td>113.85</td>\n",
       "    </tr>\n",
       "    <tr>\n",
       "      <th>5</th>\n",
       "      <td>TSLA</td>\n",
       "      <td>Tesla Inc.</td>\n",
       "      <td>270.21</td>\n",
       "      <td>-6.95</td>\n",
       "      <td>-2.51%</td>\n",
       "      <td>49863000</td>\n",
       "      <td>83703000</td>\n",
       "      <td>846695000000</td>\n",
       "      <td>96.85</td>\n",
       "    </tr>\n",
       "    <tr>\n",
       "      <th>47</th>\n",
       "      <td>PDD</td>\n",
       "      <td>Pinduoduo Inc.</td>\n",
       "      <td>72.19</td>\n",
       "      <td>0.77</td>\n",
       "      <td>+1.08%</td>\n",
       "      <td>16754999</td>\n",
       "      <td>13462000</td>\n",
       "      <td>91276000000</td>\n",
       "      <td>46.57</td>\n",
       "    </tr>\n",
       "    <tr>\n",
       "      <th>...</th>\n",
       "      <td>...</td>\n",
       "      <td>...</td>\n",
       "      <td>...</td>\n",
       "      <td>...</td>\n",
       "      <td>...</td>\n",
       "      <td>...</td>\n",
       "      <td>...</td>\n",
       "      <td>...</td>\n",
       "      <td>...</td>\n",
       "    </tr>\n",
       "    <tr>\n",
       "      <th>85</th>\n",
       "      <td>AZN</td>\n",
       "      <td>AstraZeneca PLC</td>\n",
       "      <td>60.69</td>\n",
       "      <td>-1.10</td>\n",
       "      <td>-1.78%</td>\n",
       "      <td>11309000</td>\n",
       "      <td>6517000</td>\n",
       "      <td>190048000000</td>\n",
       "      <td>NaN</td>\n",
       "    </tr>\n",
       "    <tr>\n",
       "      <th>91</th>\n",
       "      <td>GSAT</td>\n",
       "      <td>Globalstar Inc.</td>\n",
       "      <td>2.04</td>\n",
       "      <td>0.04</td>\n",
       "      <td>+2.00%</td>\n",
       "      <td>10851000</td>\n",
       "      <td>5429000</td>\n",
       "      <td>3674000000</td>\n",
       "      <td>NaN</td>\n",
       "    </tr>\n",
       "    <tr>\n",
       "      <th>92</th>\n",
       "      <td>ELAN</td>\n",
       "      <td>Elanco Animal Health Incorporated</td>\n",
       "      <td>15.37</td>\n",
       "      <td>-0.01</td>\n",
       "      <td>-0.07%</td>\n",
       "      <td>10836000</td>\n",
       "      <td>5320000</td>\n",
       "      <td>7287000000</td>\n",
       "      <td>NaN</td>\n",
       "    </tr>\n",
       "    <tr>\n",
       "      <th>97</th>\n",
       "      <td>MRVL</td>\n",
       "      <td>Marvell Technology Inc.</td>\n",
       "      <td>45.76</td>\n",
       "      <td>-0.21</td>\n",
       "      <td>-0.46%</td>\n",
       "      <td>10251000</td>\n",
       "      <td>9844000</td>\n",
       "      <td>38891000000</td>\n",
       "      <td>NaN</td>\n",
       "    </tr>\n",
       "    <tr>\n",
       "      <th>99</th>\n",
       "      <td>AFRM</td>\n",
       "      <td>Affirm Holdings Inc.</td>\n",
       "      <td>22.45</td>\n",
       "      <td>-0.71</td>\n",
       "      <td>-3.07%</td>\n",
       "      <td>10258000</td>\n",
       "      <td>14791000</td>\n",
       "      <td>6430000000</td>\n",
       "      <td>NaN</td>\n",
       "    </tr>\n",
       "  </tbody>\n",
       "</table>\n",
       "<p>100 rows × 9 columns</p>\n",
       "</div>"
      ],
      "text/plain": [
       "   Stock ticker                         Stock name  Last price of stock  \\\n",
       "15         SHOP                       Shopify Inc.                30.11   \n",
       "32          PCG                   PG&E Corporation                12.55   \n",
       "4          AMZN                    Amazon.com Inc.               127.51   \n",
       "5          TSLA                         Tesla Inc.               270.21   \n",
       "47          PDD                     Pinduoduo Inc.                72.19   \n",
       "..          ...                                ...                  ...   \n",
       "85          AZN                    AstraZeneca PLC                60.69   \n",
       "91         GSAT                    Globalstar Inc.                 2.04   \n",
       "92         ELAN  Elanco Animal Health Incorporated                15.37   \n",
       "97         MRVL            Marvell Technology Inc.                45.76   \n",
       "99         AFRM               Affirm Holdings Inc.                22.45   \n",
       "\n",
       "    Stock change Stock percentage change    Volume  \\\n",
       "15         -1.16                  -3.71%  31479000   \n",
       "32          0.02                  +0.16%  21422000   \n",
       "4          -0.31                  -0.24%  57430000   \n",
       "5          -6.95                  -2.51%  49863000   \n",
       "47          0.77                  +1.08%  16754999   \n",
       "..           ...                     ...       ...   \n",
       "85         -1.10                  -1.78%  11309000   \n",
       "91          0.04                  +2.00%  10851000   \n",
       "92         -0.01                  -0.07%  10836000   \n",
       "97         -0.21                  -0.46%  10251000   \n",
       "99         -0.71                  -3.07%  10258000   \n",
       "\n",
       "    Average volume over 3 months     Market cap  PE ratio  \n",
       "15                      33223000    38191000000    231.62  \n",
       "32                      13481000    30941000000    125.50  \n",
       "4                       64512000  1299000000000    113.85  \n",
       "5                       83703000   846695000000     96.85  \n",
       "47                      13462000    91276000000     46.57  \n",
       "..                           ...            ...       ...  \n",
       "85                       6517000   190048000000       NaN  \n",
       "91                       5429000     3674000000       NaN  \n",
       "92                       5320000     7287000000       NaN  \n",
       "97                       9844000    38891000000       NaN  \n",
       "99                      14791000     6430000000       NaN  \n",
       "\n",
       "[100 rows x 9 columns]"
      ]
     },
     "execution_count": 123,
     "metadata": {},
     "output_type": "execute_result"
    }
   ],
   "source": [
    "order_by_pe_ratio_df = most_active_df.sort_values('PE ratio', ascending=False)\n",
    "order_by_pe_ratio_df"
   ]
  },
  {
   "cell_type": "code",
   "execution_count": 124,
   "id": "3f2112da",
   "metadata": {},
   "outputs": [
    {
     "data": {
      "text/html": [
       "<div>\n",
       "<style scoped>\n",
       "    .dataframe tbody tr th:only-of-type {\n",
       "        vertical-align: middle;\n",
       "    }\n",
       "\n",
       "    .dataframe tbody tr th {\n",
       "        vertical-align: top;\n",
       "    }\n",
       "\n",
       "    .dataframe thead th {\n",
       "        text-align: right;\n",
       "    }\n",
       "</style>\n",
       "<table border=\"1\" class=\"dataframe\">\n",
       "  <thead>\n",
       "    <tr style=\"text-align: right;\">\n",
       "      <th></th>\n",
       "      <th>Stock ticker</th>\n",
       "      <th>Stock name</th>\n",
       "      <th>Last price of stock</th>\n",
       "      <th>Stock change</th>\n",
       "      <th>Stock percentage change</th>\n",
       "      <th>Volume</th>\n",
       "      <th>Average volume over 3 months</th>\n",
       "      <th>Market cap</th>\n",
       "      <th>PE ratio</th>\n",
       "    </tr>\n",
       "  </thead>\n",
       "  <tbody>\n",
       "    <tr>\n",
       "      <th>0</th>\n",
       "      <td>AMD</td>\n",
       "      <td>Advanced Micro Devices Inc.</td>\n",
       "      <td>80.24</td>\n",
       "      <td>-2.09</td>\n",
       "      <td>-2.54%</td>\n",
       "      <td>84924000</td>\n",
       "      <td>84344000</td>\n",
       "      <td>129532999999</td>\n",
       "      <td>35.19</td>\n",
       "    </tr>\n",
       "    <tr>\n",
       "      <th>1</th>\n",
       "      <td>AAPL</td>\n",
       "      <td>Apple Inc.</td>\n",
       "      <td>155.81</td>\n",
       "      <td>-2.15</td>\n",
       "      <td>-1.36%</td>\n",
       "      <td>76958000</td>\n",
       "      <td>73365000</td>\n",
       "      <td>2504000000000</td>\n",
       "      <td>25.75</td>\n",
       "    </tr>\n",
       "    <tr>\n",
       "      <th>2</th>\n",
       "      <td>NVDA</td>\n",
       "      <td>NVIDIA Corporation</td>\n",
       "      <td>136.47</td>\n",
       "      <td>-2.90</td>\n",
       "      <td>-2.08%</td>\n",
       "      <td>74203000</td>\n",
       "      <td>52886000</td>\n",
       "      <td>340083000000</td>\n",
       "      <td>36.60</td>\n",
       "    </tr>\n",
       "    <tr>\n",
       "      <th>3</th>\n",
       "      <td>F</td>\n",
       "      <td>Ford Motor Company</td>\n",
       "      <td>15.16</td>\n",
       "      <td>-0.03</td>\n",
       "      <td>-0.20%</td>\n",
       "      <td>64565000</td>\n",
       "      <td>60943000</td>\n",
       "      <td>60947000000</td>\n",
       "      <td>5.26</td>\n",
       "    </tr>\n",
       "    <tr>\n",
       "      <th>4</th>\n",
       "      <td>AMZN</td>\n",
       "      <td>Amazon.com Inc.</td>\n",
       "      <td>127.51</td>\n",
       "      <td>-0.31</td>\n",
       "      <td>-0.24%</td>\n",
       "      <td>57430000</td>\n",
       "      <td>64512000</td>\n",
       "      <td>1299000000000</td>\n",
       "      <td>113.85</td>\n",
       "    </tr>\n",
       "    <tr>\n",
       "      <th>...</th>\n",
       "      <td>...</td>\n",
       "      <td>...</td>\n",
       "      <td>...</td>\n",
       "      <td>...</td>\n",
       "      <td>...</td>\n",
       "      <td>...</td>\n",
       "      <td>...</td>\n",
       "      <td>...</td>\n",
       "      <td>...</td>\n",
       "    </tr>\n",
       "    <tr>\n",
       "      <th>95</th>\n",
       "      <td>STLA</td>\n",
       "      <td>Stellantis N.V.</td>\n",
       "      <td>13.09</td>\n",
       "      <td>-0.18</td>\n",
       "      <td>-1.36%</td>\n",
       "      <td>10444000</td>\n",
       "      <td>5182000</td>\n",
       "      <td>41154000000</td>\n",
       "      <td>2.71</td>\n",
       "    </tr>\n",
       "    <tr>\n",
       "      <th>96</th>\n",
       "      <td>NEM</td>\n",
       "      <td>Newmont Corporation</td>\n",
       "      <td>41.67</td>\n",
       "      <td>0.76</td>\n",
       "      <td>+1.86%</td>\n",
       "      <td>10426000</td>\n",
       "      <td>8822000</td>\n",
       "      <td>33073000000</td>\n",
       "      <td>44.33</td>\n",
       "    </tr>\n",
       "    <tr>\n",
       "      <th>98</th>\n",
       "      <td>SBUX</td>\n",
       "      <td>Starbucks Corporation</td>\n",
       "      <td>82.94</td>\n",
       "      <td>-2.46</td>\n",
       "      <td>-2.88%</td>\n",
       "      <td>10337000</td>\n",
       "      <td>6652000</td>\n",
       "      <td>97988000000</td>\n",
       "      <td>23.36</td>\n",
       "    </tr>\n",
       "    <tr>\n",
       "      <th>99</th>\n",
       "      <td>AFRM</td>\n",
       "      <td>Affirm Holdings Inc.</td>\n",
       "      <td>22.45</td>\n",
       "      <td>-0.71</td>\n",
       "      <td>-3.07%</td>\n",
       "      <td>10258000</td>\n",
       "      <td>14791000</td>\n",
       "      <td>6430000000</td>\n",
       "      <td>NaN</td>\n",
       "    </tr>\n",
       "    <tr>\n",
       "      <th>97</th>\n",
       "      <td>MRVL</td>\n",
       "      <td>Marvell Technology Inc.</td>\n",
       "      <td>45.76</td>\n",
       "      <td>-0.21</td>\n",
       "      <td>-0.46%</td>\n",
       "      <td>10251000</td>\n",
       "      <td>9844000</td>\n",
       "      <td>38891000000</td>\n",
       "      <td>NaN</td>\n",
       "    </tr>\n",
       "  </tbody>\n",
       "</table>\n",
       "<p>100 rows × 9 columns</p>\n",
       "</div>"
      ],
      "text/plain": [
       "   Stock ticker                   Stock name  Last price of stock  \\\n",
       "0           AMD  Advanced Micro Devices Inc.                80.24   \n",
       "1          AAPL                   Apple Inc.               155.81   \n",
       "2          NVDA           NVIDIA Corporation               136.47   \n",
       "3             F           Ford Motor Company                15.16   \n",
       "4          AMZN              Amazon.com Inc.               127.51   \n",
       "..          ...                          ...                  ...   \n",
       "95         STLA              Stellantis N.V.                13.09   \n",
       "96          NEM          Newmont Corporation                41.67   \n",
       "98         SBUX        Starbucks Corporation                82.94   \n",
       "99         AFRM         Affirm Holdings Inc.                22.45   \n",
       "97         MRVL      Marvell Technology Inc.                45.76   \n",
       "\n",
       "    Stock change Stock percentage change    Volume  \\\n",
       "0          -2.09                  -2.54%  84924000   \n",
       "1          -2.15                  -1.36%  76958000   \n",
       "2          -2.90                  -2.08%  74203000   \n",
       "3          -0.03                  -0.20%  64565000   \n",
       "4          -0.31                  -0.24%  57430000   \n",
       "..           ...                     ...       ...   \n",
       "95         -0.18                  -1.36%  10444000   \n",
       "96          0.76                  +1.86%  10426000   \n",
       "98         -2.46                  -2.88%  10337000   \n",
       "99         -0.71                  -3.07%  10258000   \n",
       "97         -0.21                  -0.46%  10251000   \n",
       "\n",
       "    Average volume over 3 months     Market cap  PE ratio  \n",
       "0                       84344000   129532999999     35.19  \n",
       "1                       73365000  2504000000000     25.75  \n",
       "2                       52886000   340083000000     36.60  \n",
       "3                       60943000    60947000000      5.26  \n",
       "4                       64512000  1299000000000    113.85  \n",
       "..                           ...            ...       ...  \n",
       "95                       5182000    41154000000      2.71  \n",
       "96                       8822000    33073000000     44.33  \n",
       "98                       6652000    97988000000     23.36  \n",
       "99                      14791000     6430000000       NaN  \n",
       "97                       9844000    38891000000       NaN  \n",
       "\n",
       "[100 rows x 9 columns]"
      ]
     },
     "execution_count": 124,
     "metadata": {},
     "output_type": "execute_result"
    }
   ],
   "source": [
    "order_by_vol_df = most_active_df.sort_values('Volume', ascending=False)\n",
    "order_by_vol_df"
   ]
  },
  {
   "cell_type": "markdown",
   "id": "75360236",
   "metadata": {},
   "source": [
    "## Matplotlib 그래프로 변환하기"
   ]
  },
  {
   "cell_type": "code",
   "execution_count": 125,
   "id": "b660b201",
   "metadata": {},
   "outputs": [
    {
     "name": "stdout",
     "output_type": "stream",
     "text": [
      "Requirement already satisfied: matplotlib in c:\\python\\python39\\lib\\site-packages (3.5.3)\n",
      "Requirement already satisfied: fonttools>=4.22.0 in c:\\python\\python39\\lib\\site-packages (from matplotlib) (4.37.1)\n",
      "Requirement already satisfied: packaging>=20.0 in c:\\python\\python39\\lib\\site-packages (from matplotlib) (21.3)\n",
      "Requirement already satisfied: cycler>=0.10 in c:\\python\\python39\\lib\\site-packages (from matplotlib) (0.11.0)\n",
      "Requirement already satisfied: kiwisolver>=1.0.1 in c:\\python\\python39\\lib\\site-packages (from matplotlib) (1.4.4)\n",
      "Requirement already satisfied: python-dateutil>=2.7 in c:\\python\\python39\\lib\\site-packages (from matplotlib) (2.8.2)\n",
      "Requirement already satisfied: numpy>=1.17 in c:\\python\\python39\\lib\\site-packages (from matplotlib) (1.23.2)\n",
      "Requirement already satisfied: pyparsing>=2.2.1 in c:\\python\\python39\\lib\\site-packages (from matplotlib) (3.0.9)\n",
      "Requirement already satisfied: pillow>=6.2.0 in c:\\python\\python39\\lib\\site-packages (from matplotlib) (9.2.0)\n",
      "Requirement already satisfied: six>=1.5 in c:\\python\\python39\\lib\\site-packages (from python-dateutil>=2.7->matplotlib) (1.16.0)\n",
      "Note: you may need to restart the kernel to use updated packages.\n"
     ]
    }
   ],
   "source": [
    "pip install matplotlib"
   ]
  },
  {
   "cell_type": "code",
   "execution_count": 126,
   "id": "709cb901",
   "metadata": {},
   "outputs": [],
   "source": [
    "import matplotlib.pyplot as plt"
   ]
  },
  {
   "cell_type": "code",
   "execution_count": 127,
   "id": "042f9728",
   "metadata": {
    "scrolled": true
   },
   "outputs": [
    {
     "data": {
      "image/png": "[encoded data removed]",
      "text/plain": [
       "<Figure size 2000x1000 with 1 Axes>"
      ]
     },
     "metadata": {},
     "output_type": "display_data"
    }
   ],
   "source": [
    "order_by_pe_ratio_df.plot(x = 'Stock ticker', y='PE ratio', kind = 'bar', figsize=(20,10))\n",
    "plt.show()"
   ]
  },
  {
   "cell_type": "code",
   "execution_count": 128,
   "id": "617e0c73",
   "metadata": {},
   "outputs": [
    {
     "data": {
      "image/png": "[encoded data removed]",
      "text/plain": [
       "<Figure size 2000x1000 with 1 Axes>"
      ]
     },
     "metadata": {},
     "output_type": "display_data"
    }
   ],
   "source": [
    "order_by_vol_df.plot(x = 'Stock ticker', y='Volume', kind = 'bar', figsize=(20,10), color = 'orange')\n",
    "# plt.show()\n",
    "\n",
    "plt.savefig('new_1.png')"
   ]
  },
  {
   "cell_type": "markdown",
   "id": "a0b2b221",
   "metadata": {},
   "source": [
    "## CSV 파일과 함께 이메일로 전송하기"
   ]
  },
  {
   "cell_type": "code",
   "execution_count": 129,
   "id": "0706a611",
   "metadata": {},
   "outputs": [
    {
     "name": "stdout",
     "output_type": "stream",
     "text": [
      "<smtplib.SMTP_SSL object at 0x0000020DB0E6B1C0>\n"
     ]
    }
   ],
   "source": [
    "import smtplib\n",
    "\n",
    "gmail_smtp = \"smtp.gmail.com\"\n",
    "gmail_port = 465\n",
    "smpt = smtplib.SMTP_SSL(gmail_smtp, gmail_port)\n",
    "print(smpt)"
   ]
  },
  {
   "cell_type": "code",
   "execution_count": 130,
   "id": "950b7f86",
   "metadata": {},
   "outputs": [
    {
     "data": {
      "text/plain": [
       "(235, b'2.7.0 Accepted')"
      ]
     },
     "execution_count": 130,
     "metadata": {},
     "output_type": "execute_result"
    }
   ],
   "source": [
    "my_id = \"cekdirect@gmail.com\"\n",
    "my_password = \"codms2022!\"\n",
    "smpt.login('cekdirect@gmail.com', 'nigplygiqrvishfs')"
   ]
  },
  {
   "cell_type": "code",
   "execution_count": 131,
   "id": "2bfdb6ab",
   "metadata": {},
   "outputs": [
    {
     "data": {
      "text/plain": [
       "(221,\n",
       " b'2.0.0 closing connection n7-20020a622707000000b00537afb22849sm8126825pfn.150 - gsmtp')"
      ]
     },
     "execution_count": 131,
     "metadata": {},
     "output_type": "execute_result"
    }
   ],
   "source": [
    "from email.mime.text import MIMEText\n",
    "from email.mime.multipart import MIMEMultipart\n",
    "from email.mime.base import MIMEBase\n",
    "from email import encoders\n",
    "\n",
    "msg = MIMEMultipart()\n",
    "msg[\"subject\"] = f\"거래량 상위 종목 업데이트\"\n",
    "msg[\"From\"] = \"cekdirect@gmail.com\"\n",
    "msg[\"To\"] = \"shiningchae@gmail.com\"\n",
    "\n",
    "from email.mime.text import MIMEText\n",
    "\n",
    "content = \"안녕하세요. \\n\\n\\\n",
    "데이터를 전달드립니다. \\n\\n\\\n",
    "감사합니다\\n\\n\\\n",
    "\"\n",
    "\n",
    "content_part = MIMEText(content, \"plain\")\n",
    "msg.attach(content_part)\n",
    "\n",
    "filename='most-active-stocks.csv'\n",
    "attachment = open(filename,'rb')\n",
    "\n",
    "part = MIMEBase('application','octet-stream')\n",
    "part.set_payload((attachment).read())\n",
    "encoders.encode_base64(part)\n",
    "part.add_header('Content-Disposition',\"attachment\", filename= filename)\n",
    "msg.attach(part)\n",
    "    \n",
    "to_mail = \"shiningchae@gmail.com\"\n",
    "\n",
    "smpt.sendmail(my_id, to_mail, msg.as_string())\n",
    "smpt.quit()"
   ]
  }
 ],
 "metadata": {
  "kernelspec": {
   "display_name": "Python 3 (ipykernel)",
   "language": "python",
   "name": "python3"
  },
  "language_info": {
   "codemirror_mode": {
    "name": "ipython",
    "version": 3
   },
   "file_extension": ".py",
   "mimetype": "text/x-python",
   "name": "python",
   "nbconvert_exporter": "python",
   "pygments_lexer": "ipython3",
   "version": "3.9.10"
  }
 },
 "nbformat": 4,
 "nbformat_minor": 5
}
