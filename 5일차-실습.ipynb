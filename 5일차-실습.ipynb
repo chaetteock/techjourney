{
 "cells": [
  {
   "cell_type": "markdown",
   "id": "80c69742",
   "metadata": {},
   "source": [
    "## while 반복문"
   ]
  },
  {
   "cell_type": "markdown",
   "id": "37956801",
   "metadata": {},
   "source": [
    "### [실습문제] 열 번 찍어 나무 넘기기"
   ]
  },
  {
   "cell_type": "code",
   "execution_count": 2,
   "id": "65d99865",
   "metadata": {
    "collapsed": true
   },
   "outputs": [
    {
     "name": "stdout",
     "output_type": "stream",
     "text": [
      "나무를 1번 찍었습니다\n",
      "나무를 2번 찍었습니다\n",
      "나무를 3번 찍었습니다\n",
      "나무를 4번 찍었습니다\n",
      "나무를 5번 찍었습니다\n",
      "나무를 6번 찍었습니다\n",
      "나무를 7번 찍었습니다\n",
      "나무를 8번 찍었습니다\n",
      "나무를 9번 찍었습니다\n",
      "나무를 10번 찍었습니다\n",
      "나무 넘어 갑니다~\n"
     ]
    }
   ],
   "source": [
    "treehit = 0\n",
    "\n",
    "while treehit < 10:\n",
    "    treehit += 1   # treehit = treehit + 1\n",
    "    print(f'나무를 {treehit}번 찍었습니다')\n",
    "    \n",
    "print('나무 넘어 갑니다~')    "
   ]
  },
  {
   "cell_type": "code",
   "execution_count": 3,
   "id": "acff5557",
   "metadata": {},
   "outputs": [
    {
     "name": "stdout",
     "output_type": "stream",
     "text": [
      "나무를 1번 찍었습니다\n",
      "나무를 2번 찍었습니다\n",
      "나무를 3번 찍었습니다\n",
      "나무를 4번 찍었습니다\n",
      "나무를 5번 찍었습니다\n",
      "나무를 6번 찍었습니다\n",
      "나무를 7번 찍었습니다\n",
      "나무를 8번 찍었습니다\n",
      "나무를 9번 찍었습니다\n",
      "나무를 10번 찍었습니다\n",
      "나무 넘어 갑니다~\n"
     ]
    }
   ],
   "source": [
    "treehit = 0\n",
    "\n",
    "while True:\n",
    "    treehit += 1\n",
    "    print(f'나무를 {treehit}번 찍었습니다')\n",
    "    \n",
    "    if treehit==10:        \n",
    "        break\n",
    "        \n",
    "print('나무 넘어 갑니다~')     "
   ]
  },
  {
   "cell_type": "markdown",
   "id": "50164d7f",
   "metadata": {},
   "source": [
    "#### 무한반복 빠져나가기"
   ]
  },
  {
   "cell_type": "code",
   "execution_count": 8,
   "id": "155b7ec2",
   "metadata": {},
   "outputs": [
    {
     "name": "stdout",
     "output_type": "stream",
     "text": [
      "\n",
      "    1.사이다   2.콜라   3.주스   4.종료\n",
      "    (1~4) 번호를 선택하세요: 1\n",
      "[1]번이 선택되었습니다.\n",
      "\n",
      "    1.사이다   2.콜라   3.주스   4.종료\n",
      "    (1~4) 번호를 선택하세요: 4\n",
      "[4]번이 선택되었습니다.\n",
      "프로그램이 종료되었습니다.\n"
     ]
    }
   ],
   "source": [
    "menu = '''\n",
    "    1.사이다   2.콜라   3.주스   4.종료\n",
    "    (1~4) 번호를 선택하세요: '''\n",
    "\n",
    "button = 0\n",
    "while button != '4'   :\n",
    "    button = input(menu)\n",
    "    print(f'[{button}]번이 선택되었습니다.')\n",
    "\n",
    "# while True:\n",
    "#     button = input(menu)\n",
    "#     print(f'[{button}]번이 선택되었습니다.')\n",
    "#     if button == '4':\n",
    "#         break\n",
    "\n",
    "print('프로그램이 종료되었습니다.')"
   ]
  },
  {
   "cell_type": "markdown",
   "id": "24d7360f",
   "metadata": {},
   "source": [
    "### [실습문제]  공이 튕긴 횟수 세기"
   ]
  },
  {
   "cell_type": "code",
   "execution_count": 12,
   "id": "556a2284",
   "metadata": {},
   "outputs": [
    {
     "name": "stdout",
     "output_type": "stream",
     "text": [
      "공의 높이를 입력하세요(m): 1000\n",
      "1000(m) 위치에서 공의 튕귄 횟수는 총 27번 입니다.\n"
     ]
    }
   ],
   "source": [
    "length = int(input('공의 높이를 입력하세요(m): '))\n",
    "\n",
    "cnt = 0\n",
    "meter = length\n",
    "while True:\n",
    "    cnt += 1\n",
    "    meter = meter / 2\n",
    "    if meter < 0.00001:\n",
    "        break\n",
    "\n",
    "print(f'{length}(m) 위치에서 공의 튕귄 횟수는 총 {cnt}번 입니다.')"
   ]
  },
  {
   "cell_type": "markdown",
   "id": "221f8e02",
   "metadata": {},
   "source": [
    "### [실습문제] 커피 자동주문 머신 기능 업그레이드 하기\n",
    "- **추가기능**:  돈이 모두 지불될때까지 반복해서 돈을 입력받기"
   ]
  },
  {
   "cell_type": "code",
   "execution_count": 16,
   "id": "6f133871",
   "metadata": {
    "scrolled": false
   },
   "outputs": [
    {
     "name": "stdout",
     "output_type": "stream",
     "text": [
      "[커피 자동주문 머신 메뉴]\n",
      "-----------------------------\n",
      "- 아메리카노 2500원\n",
      "- 카페라테   3000원\n",
      "- 카푸치노   3000원\n",
      "입니다. 원하시는 커피종류와 잔수를 입력하세요.\n",
      "-----------------------------\n",
      "아메리카노 몇잔?: 1\n",
      "카페라떼 몇잔?: 1\n",
      "카푸치노 몇잔?: 1\n",
      "지불할 총 금액은 8500 입니다.\n",
      "-----------------------------\n",
      "-----------------------------\n",
      "[지불할 금액:8500] 돈을 넣어 주세요.: 3000\n",
      "돈이 부족합니다. 5500 원을 더 넣어주세요.\n",
      "-----------------------------\n",
      "[지불할 금액:5500] 돈을 넣어 주세요.: 10000\n",
      "거스름돈은 4500 원 입니다.\n",
      "커피 맛있게 드세요~~~\n"
     ]
    }
   ],
   "source": [
    "def coffeemachine():\n",
    "    menu = '''[커피 자동주문 머신 메뉴]\n",
    "    -----------------------------\n",
    "    - 아메리카노 2500원\n",
    "    - 카페라테   3000원\n",
    "    - 카푸치노   3000원\n",
    "    입니다. 원하시는 커피종류와 잔수를 입력하세요.\n",
    "    -----------------------------\\n'''\n",
    "\n",
    "    coffee1 = int(input(menu+\"아메리카노 몇잔?: \"))\n",
    "    coffee2 = int(input('카페라떼 몇잔?: '))\n",
    "    coffee3 = int(input('카푸치노 몇잔?: '))\n",
    "\n",
    "    totalprice = coffee1*2500 + coffee2*3000 + coffee3*3000\n",
    "    print(f'지불할 총 금액은 {totalprice} 입니다.')\n",
    "    print('-----------------------------')\n",
    "\n",
    "    while True:\n",
    "        money = int(input(f'[지불할 금액:{totalprice}] 돈을 넣어 주세요.: '))\n",
    "\n",
    "        change = money - totalprice\n",
    "\n",
    "        if change < 0:\n",
    "            print(f'돈이 부족합니다. {change*-1} 원을 더 넣어주세요.')\n",
    "            totalprice = totalprice - money\n",
    "        else:\n",
    "            print(f'거스름돈은 {change} 원 입니다.')\n",
    "            break\n",
    "\n",
    "        print('-----------------------------')\n",
    "\n",
    "    print('커피 맛있게 드세요~~~')\n",
    "    \n",
    "# 함수 호출하기\n",
    "coffeemachine()"
   ]
  },
  {
   "cell_type": "markdown",
   "id": "4067488e",
   "metadata": {},
   "source": [
    "-----------------------"
   ]
  },
  {
   "cell_type": "markdown",
   "id": "466db835",
   "metadata": {},
   "source": [
    "# 파일 입출력"
   ]
  },
  {
   "cell_type": "markdown",
   "id": "381f2e8f",
   "metadata": {},
   "source": [
    "### TXT 파일에 쓰기"
   ]
  },
  {
   "cell_type": "code",
   "execution_count": 22,
   "id": "09d403f7",
   "metadata": {},
   "outputs": [],
   "source": [
    "f = open(\"C:/python/projectmanager/test.txt\", 'w')\n",
    "\n",
    "for i in range(1, 11):\n",
    "    f.write(f'{i} 번째 줄입니다.\\n')\n",
    "    \n",
    "f.close()"
   ]
  },
  {
   "cell_type": "markdown",
   "id": "39a6ae33",
   "metadata": {},
   "source": [
    "### TXT 파일 읽어오기"
   ]
  },
  {
   "cell_type": "code",
   "execution_count": 23,
   "id": "4d6c64dc",
   "metadata": {
    "scrolled": true
   },
   "outputs": [
    {
     "name": "stdout",
     "output_type": "stream",
     "text": [
      "1 번째 줄입니다.\n",
      "2 번째 줄입니다.\n",
      "3 번째 줄입니다.\n",
      "4 번째 줄입니다.\n",
      "5 번째 줄입니다.\n",
      "6 번째 줄입니다.\n",
      "7 번째 줄입니다.\n",
      "8 번째 줄입니다.\n",
      "9 번째 줄입니다.\n",
      "10 번째 줄입니다.\n",
      "\n",
      "\n",
      "\n",
      "\n",
      "\n",
      "\n",
      "\n",
      "\n",
      "\n",
      "\n"
     ]
    }
   ],
   "source": [
    "f = open(\"C:/python/projectmanager/test.txt\", 'r')\n",
    "\n",
    "while True:\n",
    "    line =  f.read()\n",
    "    print(line)\n",
    "    if not line:\n",
    "        break\n",
    "    \n",
    "f.close()"
   ]
  },
  {
   "cell_type": "code",
   "execution_count": 26,
   "id": "8b44f37b",
   "metadata": {},
   "outputs": [
    {
     "data": {
      "text/html": [
       "<div><div id=20054c5f-abb6-47ff-a738-b19518bfe488 style=\"display:none; background-color:#9D6CFF; color:white; width:200px; height:30px; padding-left:5px; border-radius:4px; flex-direction:row; justify-content:space-around; align-items:center;\" onmouseover=\"this.style.backgroundColor='#BA9BF8'\" onmouseout=\"this.style.backgroundColor='#9D6CFF'\" onclick=\"window.commands?.execute('create-mitosheet-from-dataframe-output');\">See Full Dataframe in Mito</div> <script> if (window.commands?.hasCommand('create-mitosheet-from-dataframe-output')) document.getElementById('20054c5f-abb6-47ff-a738-b19518bfe488').style.display = 'flex' </script> <table border=\"1\" class=\"dataframe\">\n",
       "  <thead>\n",
       "    <tr style=\"text-align: right;\">\n",
       "      <th></th>\n",
       "      <th>air_force_blue_raf</th>\n",
       "      <th>Air Force Blue (Raf)</th>\n",
       "      <th>#5d8aa8</th>\n",
       "      <th>93</th>\n",
       "      <th>138</th>\n",
       "      <th>168</th>\n",
       "    </tr>\n",
       "  </thead>\n",
       "  <tbody>\n",
       "    <tr>\n",
       "      <th>0</th>\n",
       "      <td>air_force_blue_usaf</td>\n",
       "      <td>Air Force Blue (Usaf)</td>\n",
       "      <td>#00308f</td>\n",
       "      <td>0</td>\n",
       "      <td>48</td>\n",
       "      <td>143</td>\n",
       "    </tr>\n",
       "    <tr>\n",
       "      <th>1</th>\n",
       "      <td>air_superiority_blue</td>\n",
       "      <td>Air Superiority Blue</td>\n",
       "      <td>#72a0c1</td>\n",
       "      <td>114</td>\n",
       "      <td>160</td>\n",
       "      <td>193</td>\n",
       "    </tr>\n",
       "    <tr>\n",
       "      <th>2</th>\n",
       "      <td>alabama_crimson</td>\n",
       "      <td>Alabama Crimson</td>\n",
       "      <td>#a32638</td>\n",
       "      <td>163</td>\n",
       "      <td>38</td>\n",
       "      <td>56</td>\n",
       "    </tr>\n",
       "    <tr>\n",
       "      <th>3</th>\n",
       "      <td>alice_blue</td>\n",
       "      <td>Alice Blue</td>\n",
       "      <td>#f0f8ff</td>\n",
       "      <td>240</td>\n",
       "      <td>248</td>\n",
       "      <td>255</td>\n",
       "    </tr>\n",
       "    <tr>\n",
       "      <th>4</th>\n",
       "      <td>alizarin_crimson</td>\n",
       "      <td>Alizarin Crimson</td>\n",
       "      <td>#e32636</td>\n",
       "      <td>227</td>\n",
       "      <td>38</td>\n",
       "      <td>54</td>\n",
       "    </tr>\n",
       "    <tr>\n",
       "      <th>...</th>\n",
       "      <td>...</td>\n",
       "      <td>...</td>\n",
       "      <td>...</td>\n",
       "      <td>...</td>\n",
       "      <td>...</td>\n",
       "      <td>...</td>\n",
       "    </tr>\n",
       "    <tr>\n",
       "      <th>859</th>\n",
       "      <td>yellow_orange</td>\n",
       "      <td>Yellow Orange</td>\n",
       "      <td>#ffae42</td>\n",
       "      <td>255</td>\n",
       "      <td>174</td>\n",
       "      <td>66</td>\n",
       "    </tr>\n",
       "    <tr>\n",
       "      <th>860</th>\n",
       "      <td>yellow_process</td>\n",
       "      <td>Yellow (Process)</td>\n",
       "      <td>#ffef00</td>\n",
       "      <td>255</td>\n",
       "      <td>239</td>\n",
       "      <td>0</td>\n",
       "    </tr>\n",
       "    <tr>\n",
       "      <th>861</th>\n",
       "      <td>yellow_ryb</td>\n",
       "      <td>Yellow (Ryb)</td>\n",
       "      <td>#fefe33</td>\n",
       "      <td>254</td>\n",
       "      <td>254</td>\n",
       "      <td>51</td>\n",
       "    </tr>\n",
       "    <tr>\n",
       "      <th>862</th>\n",
       "      <td>zaffre</td>\n",
       "      <td>Zaffre</td>\n",
       "      <td>#0014a8</td>\n",
       "      <td>0</td>\n",
       "      <td>20</td>\n",
       "      <td>168</td>\n",
       "    </tr>\n",
       "    <tr>\n",
       "      <th>863</th>\n",
       "      <td>zinnwaldite_brown</td>\n",
       "      <td>Zinnwaldite Brown</td>\n",
       "      <td>#2c1608</td>\n",
       "      <td>44</td>\n",
       "      <td>22</td>\n",
       "      <td>8</td>\n",
       "    </tr>\n",
       "  </tbody>\n",
       "</table></div>"
      ],
      "text/plain": [
       "       air_force_blue_raf   Air Force Blue (Raf)  #5d8aa8   93  138  168\n",
       "0     air_force_blue_usaf  Air Force Blue (Usaf)  #00308f    0   48  143\n",
       "1    air_superiority_blue   Air Superiority Blue  #72a0c1  114  160  193\n",
       "2         alabama_crimson        Alabama Crimson  #a32638  163   38   56\n",
       "3              alice_blue             Alice Blue  #f0f8ff  240  248  255\n",
       "4        alizarin_crimson       Alizarin Crimson  #e32636  227   38   54\n",
       "..                    ...                    ...      ...  ...  ...  ...\n",
       "859         yellow_orange          Yellow Orange  #ffae42  255  174   66\n",
       "860        yellow_process       Yellow (Process)  #ffef00  255  239    0\n",
       "861            yellow_ryb           Yellow (Ryb)  #fefe33  254  254   51\n",
       "862                zaffre                 Zaffre  #0014a8    0   20  168\n",
       "863     zinnwaldite_brown      Zinnwaldite Brown  #2c1608   44   22    8\n",
       "\n",
       "[864 rows x 6 columns]"
      ]
     },
     "execution_count": 26,
     "metadata": {},
     "output_type": "execute_result"
    }
   ],
   "source": [
    "import pandas as pd\n",
    "\n",
    "df = pd.read_csv('data/colors.csv')\n",
    "df"
   ]
  },
  {
   "cell_type": "code",
   "execution_count": null,
   "id": "88598260",
   "metadata": {},
   "outputs": [],
   "source": []
  }
 ],
 "metadata": {
  "kernelspec": {
   "display_name": "Python 3",
   "language": "python",
   "name": "python3"
  },
  "language_info": {
   "codemirror_mode": {
    "name": "ipython",
    "version": 3
   },
   "file_extension": ".py",
   "mimetype": "text/x-python",
   "name": "python",
   "nbconvert_exporter": "python",
   "pygments_lexer": "ipython3",
   "version": "3.9.10"
  }
 },
 "nbformat": 4,
 "nbformat_minor": 5
}
