{
 "cells": [
  {
   "cell_type": "markdown",
   "id": "fba07d34",
   "metadata": {},
   "source": [
    "# 조건문"
   ]
  },
  {
   "cell_type": "markdown",
   "id": "74342331",
   "metadata": {},
   "source": [
    "### 숫자를 입력 받아 짝수/홀수를 판별하는 코드 만들기"
   ]
  },
  {
   "cell_type": "code",
   "execution_count": 6,
   "id": "b3abae24",
   "metadata": {},
   "outputs": [
    {
     "name": "stdout",
     "output_type": "stream",
     "text": [
      "숫자를 입력해 주세요: 44\n",
      " 입력된 수: 44 ==> 짝수\n"
     ]
    }
   ],
   "source": [
    "x = int(input('숫자를 입력해 주세요: '))\n",
    "\n",
    "if x%2 == 0:\n",
    "    \n",
    "    print(f' 입력된 수: {x} ==> 짝수' )\n",
    "    \n",
    "else:\n",
    "    print(f' 입력된 수: {x} ==> 홀수')"
   ]
  },
  {
   "cell_type": "code",
   "execution_count": 9,
   "id": "549a77af",
   "metadata": {},
   "outputs": [
    {
     "name": "stdout",
     "output_type": "stream",
     "text": [
      "숫자를 입력해 주세요: 66\n",
      " 입력된 수: 66 ==> 짝수\n"
     ]
    }
   ],
   "source": [
    "x = int(input('숫자를 입력해 주세요: '))\n",
    "\n",
    "if x%2 == 0:\n",
    "    result = '짝수'\n",
    "        \n",
    "else:\n",
    "    result = '홀수'\n",
    "\n",
    "print(f' 입력된 수: {x} ==> {result}')"
   ]
  },
  {
   "cell_type": "code",
   "execution_count": 12,
   "id": "1ec0ba70",
   "metadata": {},
   "outputs": [
    {
     "name": "stdout",
     "output_type": "stream",
     "text": [
      "숫자를 입력해 주세요: 333333\n",
      "짝수가 아니다\n"
     ]
    }
   ],
   "source": [
    "x = int(input('숫자를 입력해 주세요: '))\n",
    "\n",
    "if x > 100:\n",
    "    if x%2==0:\n",
    "        print('짝수다')\n",
    "    else:\n",
    "        print('짝수가 아니다')\n",
    "        \n",
    "elif x < 50:\n",
    "    print('50보다 작은 수')\n",
    "    \n",
    "else:\n",
    "    print('50보다 크거나 같고 100보다 작거나 같은 수')"
   ]
  },
  {
   "cell_type": "markdown",
   "id": "4d14e939",
   "metadata": {},
   "source": [
    "### 성적 등급 판별하는 프로그램 작성해보기"
   ]
  },
  {
   "cell_type": "code",
   "execution_count": 23,
   "id": "c5a33cd6",
   "metadata": {},
   "outputs": [
    {
     "name": "stdout",
     "output_type": "stream",
     "text": [
      "성적을 입력해 주세요: 32\n",
      " 성적: 32 는 D 등급 입니다.\n"
     ]
    }
   ],
   "source": [
    "x = int(input('성적을 입력해 주세요: '))\n",
    "\n",
    "if x < 70:\n",
    "    grade = 'D'\n",
    "    \n",
    "elif x < 80:\n",
    "    grade = 'C'\n",
    "    \n",
    "elif x < 90:\n",
    "    grade = 'B'\n",
    "    \n",
    "else:\n",
    "    grade = 'A'\n",
    "    \n",
    "print(f' 성적: {x} 는 {grade} 등급 입니다.')\n"
   ]
  },
  {
   "cell_type": "markdown",
   "id": "6aecd544",
   "metadata": {},
   "source": [
    "### 조건문 프로그램 만들기"
   ]
  },
  {
   "cell_type": "markdown",
   "id": "50fe2bc2",
   "metadata": {},
   "source": [
    "<지하철 프로그램>\n",
    "2호선과 7호선면 지하철을 타고, \n",
    "건대입구역이면 지하철에서 내리고,\n",
    "2호선과 7호선이 아니면 지도를 검색한다.\n",
    "\n",
    "Q. 2호선과 7호선의 목록을 리스트로 만들어야 하나용?"
   ]
  },
  {
   "cell_type": "code",
   "execution_count": 33,
   "id": "dc83711d",
   "metadata": {},
   "outputs": [
    {
     "name": "stdout",
     "output_type": "stream",
     "text": [
      "지하철 이름을 입력해 주세요: 충정로\n",
      "건대입구역으로 가세요.\n"
     ]
    }
   ],
   "source": [
    "station = input('지하철 이름을 입력해 주세요: ')\n",
    "\n",
    "line2 = ['건대입구', '성수', '뚝섬', '충정로']\n",
    "\n",
    "if station in line2:\n",
    "    if station == '건대입구':\n",
    "        print('지하철에서 내리세요.')\n",
    "    else:\n",
    "        print('건대입구역으로 가세요.')\n",
    "        \n",
    "else:\n",
    "    print('지도를 다시 검색하세요.')\n"
   ]
  },
  {
   "cell_type": "code",
   "execution_count": 35,
   "id": "bbb5c2b1",
   "metadata": {},
   "outputs": [
    {
     "name": "stdout",
     "output_type": "stream",
     "text": [
      "Requirement already satisfied: pywin32 in c:\\users\\user\\python\\lib\\site-packages (304)\n"
     ]
    }
   ],
   "source": [
    "!pip install pywin32\n",
    "#텍스트를 speech로 구현해줄 수 있다."
   ]
  },
  {
   "cell_type": "markdown",
   "id": "1cef8853",
   "metadata": {},
   "source": [
    "### 목소리로 나오게 하기"
   ]
  },
  {
   "cell_type": "code",
   "execution_count": 36,
   "id": "495f3aa2",
   "metadata": {},
   "outputs": [
    {
     "data": {
      "text/plain": [
       "1"
      ]
     },
     "execution_count": 36,
     "metadata": {},
     "output_type": "execute_result"
    }
   ],
   "source": [
    "import win32com.client as wc\n",
    "\n",
    "tts = wc.Dispatch(\"SAPI.SpVoice\")\n",
    "tts.Speak('조건문 만들기 프로그램입니다.')"
   ]
  },
  {
   "cell_type": "markdown",
   "id": "3b570ead",
   "metadata": {},
   "source": [
    "### 온도 프로그램을 음성으로 나오도록 하기"
   ]
  },
  {
   "cell_type": "code",
   "execution_count": 41,
   "id": "f0c67ed1",
   "metadata": {},
   "outputs": [
    {
     "name": "stdout",
     "output_type": "stream",
     "text": [
      "온도를 입력해주세요: 34\n",
      "34도에는 에어컨을 켜세요\n"
     ]
    },
    {
     "data": {
      "text/plain": [
       "1"
      ]
     },
     "execution_count": 41,
     "metadata": {},
     "output_type": "execute_result"
    }
   ],
   "source": [
    "import win32com.client as wc\n",
    "\n",
    "tts = wc.Dispatch(\"SAPI.SpVoice\")   #tts는 text to speech 이다.\n",
    "\n",
    "tts.Speak('온도를 입력해 주세요.')\n",
    "temp = int(input('온도를 입력해주세요: '))\n",
    "\n",
    "if temp>=30:\n",
    "    donow ='에어컨을 켜세요'\n",
    "elif temp>20 and temp<30:\n",
    "    donow ='날씨가 좋네요'\n",
    "elif temp>10 and temp<=20:\n",
    "    donow ='내복을 입으세요'\n",
    "else:\n",
    "    donow ='난방기를 켜세요'\n",
    "   \n",
    "\n",
    "print(f'{temp}도에는 {donow}')\n",
    "tts.Speak(f'{temp}도에는 {donow}')"
   ]
  },
  {
   "cell_type": "code",
   "execution_count": 39,
   "id": "978d793d",
   "metadata": {},
   "outputs": [
    {
     "name": "stdout",
     "output_type": "stream",
     "text": [
      "온도를 입력해주세요 : 44\n",
      "------------------------------\n",
      "44도에는 에어컨을 켜세요\n"
     ]
    },
    {
     "data": {
      "text/plain": [
       "1"
      ]
     },
     "execution_count": 39,
     "metadata": {},
     "output_type": "execute_result"
    }
   ],
   "source": [
    "import win32com.client as wc\n",
    "\n",
    "tts = wc.Dispatch(\"SAPI.SpVoice\")\n",
    "tts.Speak('조건문 만들기 프로그램입니다.')\n",
    "\n",
    "tts.Speak('온도를 입력해주세요')\n",
    "temp=int(input(f'온도를 입력해주세요 : '))\n",
    "\n",
    "if temp>=30:\n",
    "    donow ='에어컨을 켜세요'\n",
    "elif temp>20 and temp<30:\n",
    "    donow ='날씨가 좋네요'\n",
    "elif temp>10 and temp<=20:\n",
    "    donow ='내복을 입으세요'\n",
    "else:\n",
    "    donow ='난방기를 켜세요'\n",
    "    \n",
    "print('-'*30)\n",
    "print(f'{temp}도에는 {donow}')\n",
    "tts.Speak(f'{temp}도에는 {donow}')"
   ]
  },
  {
   "cell_type": "markdown",
   "id": "1a89d137",
   "metadata": {},
   "source": [
    "### 주민번호 입력받아 출력하는 프로그램\n",
    "주민번호를 입력 받아 생년월일, 나이, 성별을 출력하는 프로그램을 만들어 보기."
   ]
  },
  {
   "cell_type": "code",
   "execution_count": 61,
   "id": "0542a8ac",
   "metadata": {},
   "outputs": [
    {
     "name": "stdout",
     "output_type": "stream",
     "text": [
      "주민번호를 입력하세요: 770909-1234567\n",
      " 1977년 09월 09일, 만 44세, 성별: 남성\n"
     ]
    }
   ],
   "source": [
    "userid = input('주민번호를 입력하세요: ')\n",
    "\n",
    "yy = userid[:2]\n",
    "mm = userid[2:4]\n",
    "dd = userid[4:6]\n",
    "\n",
    "if userid[7] in ['1', '3']:   #남성\n",
    "    gender = '남성'\n",
    "    if userid[7] == '1':\n",
    "        yy = 1900 + int(yy)\n",
    "    else: yy = 2000 + int(yy)\n",
    "        \n",
    "if userid[7] in ['2', '4']:   #여성\n",
    "    gender = '여성'\n",
    "    if userid[7] == '2':\n",
    "        yy = 1900 + int(yy)\n",
    "    else: yy = 2000 + int(yy)\n",
    "\n",
    "\n",
    "# 만 나이 정보 구하기\n",
    "\n",
    "import datetime\n",
    "now = datetime.datetime.now()\n",
    "\n",
    "if int(mm) <= int(now.month):\n",
    "    if int(dd) <= int(now.day): \n",
    "        age = now.year - yy\n",
    "    else:\n",
    "        age = now.year - yy - 1\n",
    "else:\n",
    "    age = now.year - yy - 1\n",
    "    \n",
    "\n",
    "\n",
    "print(f' {yy}년 {mm}월 {dd}일, 만 {age}세, 성별: {gender}' )"
   ]
  },
  {
   "cell_type": "code",
   "execution_count": 53,
   "id": "b5deba1a",
   "metadata": {
    "scrolled": true
   },
   "outputs": [
    {
     "name": "stdout",
     "output_type": "stream",
     "text": [
      "9\n",
      "2022\n",
      "1\n"
     ]
    }
   ],
   "source": [
    "# 나이 정보 구하기\n",
    "\n",
    "import datetime\n",
    "now = datetime.datetime.now()\n",
    "print(now.month)\n",
    "print(now.year)\n",
    "print(now.day)"
   ]
  },
  {
   "cell_type": "code",
   "execution_count": 50,
   "id": "a8eb0e9c",
   "metadata": {},
   "outputs": [
    {
     "data": {
      "text/plain": [
       "datetime.datetime(2022, 9, 1, 12, 25, 28, 815693)"
      ]
     },
     "execution_count": 50,
     "metadata": {},
     "output_type": "execute_result"
    }
   ],
   "source": [
    "from datetime import datetime\n",
    "datetime.today()\n"
   ]
  },
  {
   "cell_type": "markdown",
   "id": "4615d660",
   "metadata": {},
   "source": [
    "### 커피 자동주문 머신 만들기"
   ]
  },
  {
   "cell_type": "code",
   "execution_count": 67,
   "id": "67389ec2",
   "metadata": {},
   "outputs": [
    {
     "name": "stdout",
     "output_type": "stream",
     "text": [
      "[커피 자동주문 머신 메뉴]\n",
      "--------------------------------------\n",
      "- 아메리카노 2500원\n",
      "- 카페라떼   3000원\n",
      "- 카푸치노   3000원\n",
      "입니다. 원하시는 커피종류와 잔수를 입력하세요.\n",
      "--------------------------------------\n",
      "아메리카노 몇잔?: 2\n",
      "카페라떼 몇잔?: 4\n",
      "카푸치노 몇잔?: 5\n",
      "지불할 총 금액은 32000원입니다.\n",
      "돈을 넣어주세요.: 30000\n",
      "돈이 부족합니다. 2000원을 더 넣어주세요.\n"
     ]
    }
   ],
   "source": [
    "menu = '''[커피 자동주문 머신 메뉴]\n",
    "--------------------------------------\n",
    "- 아메리카노 2500원\n",
    "- 카페라떼   3000원\n",
    "- 카푸치노   3000원\n",
    "입니다. 원하시는 커피종류와 잔수를 입력하세요.\n",
    "--------------------------------------\\n'''\n",
    "coffee1 = int(input(menu + \"아메리카노 몇잔?: \"))\n",
    "coffee2 = int(input(\"카페라떼 몇잔?: \"))\n",
    "coffee3 = int(input(\"카푸치노 몇잔?: \"))\n",
    "\n",
    "totalprice = 2500*coffee1 + 3000*coffee2 + 3000*coffee3\n",
    "print(f'지불할 총 금액은 {totalprice}원입니다.')\n",
    "\n",
    "money = int(input(f'돈을 넣어주세요.: '))\n",
    "changes = money - totalprice\n",
    "\n",
    "if changes < 0 :\n",
    "    print(f'돈이 부족합니다. {changes*-1}원을 더 넣어주세요.')\n",
    "else:\n",
    "    print(f'거스름돈은 {changes}원입니다.')\n"
   ]
  },
  {
   "cell_type": "code",
   "execution_count": 68,
   "id": "42414562",
   "metadata": {},
   "outputs": [
    {
     "name": "stdout",
     "output_type": "stream",
     "text": [
      "안녕안녕 for문 공부중\n",
      "안녕안녕 for문 공부중\n",
      "안녕안녕 for문 공부중\n"
     ]
    }
   ],
   "source": [
    "for i in range(0,3,1):\n",
    "    print(\"안녕안녕 for문 공부중\")"
   ]
  },
  {
   "cell_type": "markdown",
   "id": "7e0d2dad",
   "metadata": {},
   "source": [
    "# 반복문"
   ]
  },
  {
   "cell_type": "markdown",
   "id": "44d4e3b8",
   "metadata": {},
   "source": [
    "## for 반복문"
   ]
  },
  {
   "cell_type": "markdown",
   "id": "13cb68d0",
   "metadata": {},
   "source": [
    "### 1~N까지의 합 구하기"
   ]
  },
  {
   "cell_type": "code",
   "execution_count": 74,
   "id": "c92ab51a",
   "metadata": {},
   "outputs": [
    {
     "name": "stdout",
     "output_type": "stream",
     "text": [
      "숫자를 입력하세요: 300000000\n",
      "1~300000000까지의 합은 45000000150000000입니다.\n"
     ]
    }
   ],
   "source": [
    "N = int(input('숫자를 입력하세요: '))\n",
    "\n",
    "hap = 0\n",
    "\n",
    "for i in range(1, N+1):\n",
    "    hap += i # hap = hap + i\n",
    "\n",
    "\n",
    "print(f'1~{N}까지의 합은 {hap}입니다.')"
   ]
  },
  {
   "cell_type": "markdown",
   "id": "411dec13",
   "metadata": {},
   "source": [
    "- 짝수를 제외하고 합 구하기"
   ]
  },
  {
   "cell_type": "code",
   "execution_count": 77,
   "id": "eed209aa",
   "metadata": {},
   "outputs": [
    {
     "name": "stdout",
     "output_type": "stream",
     "text": [
      "숫자를 입력하세요: 10\n",
      "1~10까지 홀수의 합은 25입니다.\n"
     ]
    }
   ],
   "source": [
    "N = int(input('숫자를 입력하세요: '))\n",
    "\n",
    "hap = 0\n",
    "\n",
    "for i in range(1, N+1):\n",
    "    if i%2 != 0:\n",
    "        hap += i\n",
    "        \n",
    "print(f'1~{N}까지 홀수의 합은 {hap}입니다.')"
   ]
  },
  {
   "cell_type": "code",
   "execution_count": 78,
   "id": "b56af84a",
   "metadata": {},
   "outputs": [
    {
     "name": "stdout",
     "output_type": "stream",
     "text": [
      "숫자를 입력하세요: 34\n",
      "1~34까지 홀수의 합은 289입니다.\n"
     ]
    }
   ],
   "source": [
    "N = int(input('숫자를 입력하세요: '))\n",
    "\n",
    "hap = 0\n",
    "\n",
    "for i in range(1, N+1, 2): #홀수들만 숫자가 나타난다.\n",
    "        hap += i\n",
    "        \n",
    "print(f'1~{N}까지 홀수의 합은 {hap}입니다.')"
   ]
  },
  {
   "cell_type": "markdown",
   "id": "964a7888",
   "metadata": {},
   "source": [
    "### 구구단 출력하기"
   ]
  },
  {
   "cell_type": "code",
   "execution_count": 87,
   "id": "da42c5ec",
   "metadata": {},
   "outputs": [
    {
     "name": "stdout",
     "output_type": "stream",
     "text": [
      "몇단을 출력할까요?: 4\n",
      "------------------------------\n",
      " 4 x 1 = 4\n",
      " 4 x 2 = 8\n",
      " 4 x 3 = 12\n",
      " 4 x 4 = 16\n",
      " 4 x 5 = 20\n",
      " 4 x 6 = 24\n",
      " 4 x 7 = 28\n",
      " 4 x 8 = 32\n",
      " 4 x 9 = 36\n"
     ]
    }
   ],
   "source": [
    "x = int(input('몇단을 출력할까요?: '))\n",
    "print('-'*30)\n",
    "\n",
    "for i in range(1, 10):\n",
    "    print(f' {x} x {i} = {x*i}')\n"
   ]
  },
  {
   "cell_type": "markdown",
   "id": "deb63cd6",
   "metadata": {},
   "source": [
    "### 2~9단이 모두 출력되도록 프로그램을 만들기"
   ]
  },
  {
   "cell_type": "code",
   "execution_count": null,
   "id": "c9bb2ebc",
   "metadata": {},
   "outputs": [],
   "source": [
    "\n",
    "for i in range(1, 10):\n",
    "    for k in range(2, 10):\n",
    "\n",
    "        \n",
    "# 반복문 "
   ]
  },
  {
   "cell_type": "code",
   "execution_count": 85,
   "id": "c7ecd21c",
   "metadata": {},
   "outputs": [
    {
     "name": "stdout",
     "output_type": "stream",
     "text": [
      "5x1=5 5x2=10 5x3=15 5x4=20 5x5=25 5x6=30 5x7=35 5x8=40 5x9=45 "
     ]
    }
   ],
   "source": [
    "x = 5\n",
    "\n",
    "for i in range(1, 10):\n",
    "    print(f'{x}x{i}={x*i}', end = ' ') #end 키를 스페이스바로 둔다.\n"
   ]
  },
  {
   "cell_type": "code",
   "execution_count": 86,
   "id": "b5dedd7d",
   "metadata": {},
   "outputs": [
    {
     "name": "stdout",
     "output_type": "stream",
     "text": [
      "5x1=5\n",
      "5x2=10\n",
      "5x3=15\n",
      "5x4=20\n",
      "5x5=25\n",
      "5x6=30\n",
      "5x7=35\n",
      "5x8=40\n",
      "5x9=45\n"
     ]
    }
   ],
   "source": [
    "x = 5\n",
    "\n",
    "for i in range(1, 10):\n",
    "    print(f'{x}x{i}={x*i}')"
   ]
  },
  {
   "cell_type": "markdown",
   "id": "b22e0441",
   "metadata": {},
   "source": [
    "## while 반복문"
   ]
  }
 ],
 "metadata": {
  "kernelspec": {
   "display_name": "Python 3 (ipykernel)",
   "language": "python",
   "name": "python3"
  },
  "language_info": {
   "codemirror_mode": {
    "name": "ipython",
    "version": 3
   },
   "file_extension": ".py",
   "mimetype": "text/x-python",
   "name": "python",
   "nbconvert_exporter": "python",
   "pygments_lexer": "ipython3",
   "version": "3.9.10"
  }
 },
 "nbformat": 4,
 "nbformat_minor": 5
}
