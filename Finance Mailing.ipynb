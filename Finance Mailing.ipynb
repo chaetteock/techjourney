{
 "cells": [
  {
   "cell_type": "code",
   "execution_count": null,
   "id": "3d097588",
   "metadata": {},
   "outputs": [],
   "source": [
    "import urllib.request\n",
    "import ssl\n",
    "\n",
    "context = ssl._create_unverified_context()\n",
    "\n",
    "#Google 금융 페이지 불러오기\n",
    "print(\"[Google 금융 정보 불러오기]\")\n",
    "URL = \"https://www.google.com/finance/markets/most-active?hl=ko\"\n",
    "page = urllib.request.urlopen(URL, context=context)\n",
    "# print(page)\n",
    "text = page.read().decode(\"utf8\")  #해당 페이지의 소스코드\n",
    "# print(text)"
   ]
  }
 ],
 "metadata": {
  "kernelspec": {
   "display_name": "Python 3 (ipykernel)",
   "language": "python",
   "name": "python3"
  },
  "language_info": {
   "codemirror_mode": {
    "name": "ipython",
    "version": 3
   },
   "file_extension": ".py",
   "mimetype": "text/x-python",
   "name": "python",
   "nbconvert_exporter": "python",
   "pygments_lexer": "ipython3",
   "version": "3.9.10"
  }
 },
 "nbformat": 4,
 "nbformat_minor": 5
}
