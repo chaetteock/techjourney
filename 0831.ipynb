{
 "cells": [
  {
   "cell_type": "markdown",
   "id": "6f48eaa5",
   "metadata": {},
   "source": [
    "### 환율정보 가져오기 실습"
   ]
  },
  {
   "cell_type": "code",
   "execution_count": 34,
   "id": "d727e947",
   "metadata": {},
   "outputs": [
    {
     "name": "stdout",
     "output_type": "stream",
     "text": [
      "[환율정보 불러오기]\n",
      "-환율기준시간: 2022.08.31 11:16\n",
      "-달러: 1,348.90\n",
      "-유로화: 1,351.26\n",
      "-위안화: 195.02\n"
     ]
    }
   ],
   "source": [
    "import urllib.request\n",
    "import ssl\n",
    "\n",
    "context = ssl._create_unverified_context()\n",
    "\n",
    "#환율정보 페이지 불러오기\n",
    "print(\"[환율정보 불러오기]\")\n",
    "URL = \"https://search.naver.com/search.naver?where=nexearch&sm=top_hty&fbm=1&ie=utf8&query=%ED%99%98%EC%9C%A8\"\n",
    "page = urllib.request.urlopen(URL, context=context)\n",
    "# print(page)\n",
    "text = page.read().decode(\"utf8\")  #해당 페이지의 소스코드\n",
    "# print(text)\n",
    "\n",
    "#환율정보 가져오기: 기준시간\n",
    "searchText = 'class=\"grp_info\"> <em>' #이게 뭐냐면 실제 text라는 변수 안에 여러가지 정보가 있는데\n",
    "#우리가 원하는 달러를 가져오려면 \n",
    "where = text.find(searchText) #소스코드에서 해당 문자열의 시작위치\n",
    "targetInfo = text[where+len(searchText):where+len(searchText)+16]\n",
    "print(f'-환율기준시간: {targetInfo}')\n",
    "\n",
    "#환율정보 가져오기: 달러\n",
    "searchText = '<span>미국 <em>USD</em></span></a></th> <td><span>'\n",
    "where = text.find(searchText)\n",
    "targetInfo = text[where+len(searchText):where+len(searchText)+8]\n",
    "print(f'-달러: {targetInfo}')\n",
    "\n",
    "#-----------------------------------------------------------------------------------\n",
    "#환율정보 가져오기: 유로화\n",
    "searchText = '<span>유럽연합 <em>EUR</em></span></a></th> <td><span>'\n",
    "where = text.find(searchText)\n",
    "targetInfo = text[where+len(searchText):where+len(searchText)+8]\n",
    "print(f'-유로화: {targetInfo}')\n",
    "\n",
    "#환율정보 가져오기: 위안화\n",
    "searchText = '<span>중국 <em>CNY</em></span></a></th> <td><span>'\n",
    "where = text.find(searchText)\n",
    "targetInfo = text[where+len(searchText):where+len(searchText)+6]\n",
    "print(f'-위안화: {targetInfo}')"
   ]
  },
  {
   "cell_type": "markdown",
   "id": "e96a32f1",
   "metadata": {},
   "source": [
    "### 동전교환 프로그램 만들기"
   ]
  },
  {
   "cell_type": "code",
   "execution_count": 30,
   "id": "9a699a30",
   "metadata": {},
   "outputs": [
    {
     "name": "stdout",
     "output_type": "stream",
     "text": [
      "동전으로 교환할 금액을 입력하세요: 4321\n",
      "500원짜리 ==> 8 개\n",
      "100원짜리 ==> 3 개\n",
      "50원짜리 ==> 0 개\n",
      "10원짜리 ==> 2 개\n",
      "잔돈 ==> 1 원\n"
     ]
    }
   ],
   "source": [
    "a = int(input('동전으로 교환할 금액을 입력하세요: '))\n",
    "\n",
    "\n",
    "c500 = a // 500\n",
    "money = int(a) % 500\n",
    "\n",
    "c100 = int(money) // 100\n",
    "money = int(money) % 100\n",
    "\n",
    "c50 = int(money) // 50\n",
    "money = int(money) % 50\n",
    "\n",
    "c10 = int(money) // 10\n",
    "money = int(money) % 10\n",
    "\n",
    "print(\"500원짜리 ==>\",c500,\"개\")\n",
    "print(\"100원짜리 ==>\",c100,\"개\")\n",
    "print(\"50원짜리 ==>\",c50,\"개\")\n",
    "print(\"10원짜리 ==>\",c10,\"개\")\n",
    "print(\"잔돈 ==>\", money,\"원\")"
   ]
  },
  {
   "cell_type": "markdown",
   "id": "604c564f",
   "metadata": {},
   "source": [
    "### 동전교환 프로그램 만들기2"
   ]
  },
  {
   "cell_type": "code",
   "execution_count": 35,
   "id": "4b46a2f5",
   "metadata": {
    "scrolled": true
   },
   "outputs": [
    {
     "name": "stdout",
     "output_type": "stream",
     "text": [
      "동전으로 교환할 금액을 입력하세요: 4321\n",
      "c500의 자료형: <class 'int'>\n",
      "500원짜리 ==> 8 개\n",
      "100원짜리 ==> 3 개\n",
      "50원짜리 ==> 0 개\n",
      "10원짜리 ==> 2 개\n",
      "잔돈 ==> 1 원\n"
     ]
    }
   ],
   "source": [
    "a = int(input('동전으로 교환할 금액을 입력하세요: '))\n",
    "\n",
    "c500, c100, c50, c10 = 0, 0, 0, 0\n",
    "\n",
    "print(f'c500의 자료형: { type(c500) }')\n",
    "c500 = a // 500\n",
    "a = a % 500\n",
    "c100 = a // 100\n",
    "a = a % 100\n",
    "c50 = a // 50\n",
    "a = a % 50\n",
    "c10 = a // 10\n",
    "a = a % 10\n",
    "\n",
    "print(f'500원짜리 ==> {c500} 개')\n",
    "print(f'100원짜리 ==> {c100} 개')\n",
    "print(f'50원짜리 ==> {c50} 개')\n",
    "print(f'10원짜리 ==> {c10} 개')\n",
    "print(f'잔돈 ==> {a} 원')"
   ]
  },
  {
   "cell_type": "markdown",
   "id": "59e99287",
   "metadata": {},
   "source": [
    "### 동전교환 프로그램 만들기3"
   ]
  },
  {
   "cell_type": "code",
   "execution_count": 64,
   "id": "33218520",
   "metadata": {},
   "outputs": [
    {
     "name": "stdout",
     "output_type": "stream",
     "text": [
      "교환할 돈은 얼마? 55555\n",
      "[1, 0, 1, 0, 1, 0, 1, 0]\n"
     ]
    }
   ],
   "source": [
    "a = int(input('교환할 돈은 얼마? '))\n",
    "\n",
    "#리스트로 for 넣고 반복문으로 만들어보기! \n",
    "\n",
    "money =[50000, 10000, 5000, 1000, 500, 100, 50, 10]\n",
    "coins = []\n",
    "\n",
    "for i in money:\n",
    "    coins.append(a // i) \n",
    "    a = a % i\n",
    "    \n",
    "    "
   ]
  },
  {
   "cell_type": "code",
   "execution_count": 66,
   "id": "a52b235a",
   "metadata": {},
   "outputs": [
    {
     "name": "stdout",
     "output_type": "stream",
     "text": [
      "동전으로 교환할 금액을 입력하세요: 55555\n",
      "50000원짜리 개수 == > 1\n",
      "10000원짜리 개수 == > 0\n",
      "5000원짜리 개수 == > 1\n",
      "1000원짜리 개수 == > 0\n",
      "500원짜리 개수 == > 1\n",
      "100원짜리 개수 == > 0\n",
      "50원짜리 개수 == > 1\n",
      "10원짜리 개수 == > 0\n",
      "잔돈 --> 5 원\n"
     ]
    }
   ],
   "source": [
    "money = int(input('동전으로 교환할 금액을 입력하세요: '))\n",
    "\n",
    "coins = [50000, 10000, 5000, 1000, 500, 100, 50, 10]\n",
    "\n",
    "for c in coins:\n",
    "    print(f'{c}원짜리 개수 == > {money // c}')\n",
    "    money %= c   # money = money % c\n",
    "\n",
    "print(f'잔돈 --> {money} 원')"
   ]
  },
  {
   "cell_type": "code",
   "execution_count": 41,
   "id": "8a0627e6",
   "metadata": {},
   "outputs": [
    {
     "name": "stdout",
     "output_type": "stream",
     "text": [
      "변환할 숫자를 입력하세요: 222\n",
      "10진수:222\n",
      "16진수:0xde\n",
      "8진수:0o336\n",
      "2진수:0b11011110\n"
     ]
    }
   ],
   "source": [
    "num = int( input('변환할 숫자를 입력하세요: ') )\n",
    "\n",
    "print(f'10진수:{num}\\n16진수:{hex(num)}\\n8진수:{oct(num)}\\n2진수:{bin(num)}')"
   ]
  },
  {
   "cell_type": "markdown",
   "id": "889f917b",
   "metadata": {},
   "source": [
    "## 리스트 자료형"
   ]
  },
  {
   "cell_type": "markdown",
   "id": "567e7161",
   "metadata": {},
   "source": [
    "### 리스트 정의"
   ]
  },
  {
   "cell_type": "code",
   "execution_count": null,
   "id": "d1fd22d2",
   "metadata": {},
   "outputs": [],
   "source": [
    "num = list()  # 빈 리스트\n",
    "num = [] # 빈 리스트\n",
    "num = [1, 2, 3, 4, 5, 6, 7] # 값이 있는 리스트"
   ]
  },
  {
   "cell_type": "code",
   "execution_count": 44,
   "id": "f79a2af6",
   "metadata": {},
   "outputs": [
    {
     "name": "stdout",
     "output_type": "stream",
     "text": [
      "[1]\n",
      "[1, 3]\n",
      "[1, 3, 5]\n",
      "[1, 3, 5, 7]\n",
      "[1, 3, 5, 7, 9]\n",
      "[1, 3, 5, 7, 9, 11]\n",
      "[1, 3, 5, 7, 9, 11, 13]\n",
      "[1, 3, 5, 7, 9, 11, 13, 15]\n",
      "[1, 3, 5, 7, 9, 11, 13, 15, 17]\n",
      "[1, 3, 5, 7, 9, 11, 13, 15, 17, 19]\n"
     ]
    }
   ],
   "source": [
    "num = []\n",
    "for x in range(1, 21, 2):\n",
    "    num.append(x)\n",
    "    \n",
    "    print(num)"
   ]
  },
  {
   "cell_type": "code",
   "execution_count": 47,
   "id": "b61af944",
   "metadata": {},
   "outputs": [
    {
     "name": "stdout",
     "output_type": "stream",
     "text": [
      "파이썬\n",
      "사과\n",
      "3.144\n",
      "orange\n",
      "100\n"
     ]
    }
   ],
   "source": [
    "num = ['파이썬', '사과', 3.144, 'orange', 100]\n",
    "\n",
    "for i in num:\n",
    "    \n",
    "    print(i)\n"
   ]
  },
  {
   "cell_type": "markdown",
   "id": "e229a949",
   "metadata": {},
   "source": [
    "### 인덱싱 슬라이싱"
   ]
  },
  {
   "cell_type": "code",
   "execution_count": 48,
   "id": "3218b80a",
   "metadata": {},
   "outputs": [
    {
     "name": "stdout",
     "output_type": "stream",
     "text": [
      "red\n",
      "white\n",
      "['green', 'blue', 'black']\n"
     ]
    }
   ],
   "source": [
    "color = ['red', 'green', 'blue', 'black', 'white']\n",
    "\n",
    "print(color[0])\n",
    "print(color[4])\n",
    "print(color[1:4])"
   ]
  },
  {
   "cell_type": "markdown",
   "id": "300ff1df",
   "metadata": {},
   "source": [
    "### 순서가 따로 없는 딕셔너리, 딕셔너리는 key에 값을 넣는 것이다."
   ]
  },
  {
   "cell_type": "code",
   "execution_count": 63,
   "id": "8e30a45c",
   "metadata": {},
   "outputs": [
    {
     "name": "stdout",
     "output_type": "stream",
     "text": [
      "{'kor': 90, 'eng': 89, 'math': 95, 'science': 88}\n",
      "{'kor': 90, 'eng': 89, 'math': 95, 'science': 88, 'music': 100}\n",
      "70\n",
      "{'kor': 70, 'eng': 89, 'math': 95, 'music': 100}\n",
      "이름 : 박지민\n",
      "국어 : 70\n",
      "영어 : 89\n",
      "수학 : 95\n"
     ]
    }
   ],
   "source": [
    "# 딕셔너리에 요소 추가/수정/삭제\n",
    "\n",
    "name = '박지민'\n",
    "scores = {'kor': 90, 'eng': 89, 'math': 95, 'science': 88}\n",
    "print(scores)\n",
    "\n",
    "#요소 추가\n",
    "scores['music'] = 100\n",
    "print(scores)\n",
    "\n",
    "#요소 변경\n",
    "scores['kor'] = 70\n",
    "print(scores['kor'])\n",
    "\n",
    "#요소 삭제\n",
    "del scores['science']\n",
    "print(scores)\n",
    "\n",
    "print('이름 : %s' % name)\n",
    "print('국어 : %s' % scores['kor'])\n",
    "print('영어 : %s' % scores['eng'])\n",
    "print('수학 : %s' % scores['math'])\n",
    "\n"
   ]
  },
  {
   "cell_type": "markdown",
   "id": "87598a06",
   "metadata": {},
   "source": [
    "### 딕셔너리 key와 value 접근"
   ]
  },
  {
   "cell_type": "code",
   "execution_count": 75,
   "id": "83bde5bf",
   "metadata": {},
   "outputs": [
    {
     "name": "stdout",
     "output_type": "stream",
     "text": [
      "국어 => 90\n",
      "영어 => 89\n",
      "수학 => 95\n",
      "과학 => 88\n",
      "dict_keys(['국어', '영어', '수학', '과학'])\n",
      "dict_values([90, 89, 95, 88])\n",
      "dict_items([('국어', 90), ('영어', 89), ('수학', 95), ('과학', 88)])\n",
      "국어 => 90\n",
      "영어 => 89\n",
      "수학 => 95\n",
      "과학 => 88\n"
     ]
    }
   ],
   "source": [
    "scores = {'국어': 90, '영어': 89, '수학': 95, '과학': 88}\n",
    "\n",
    "\n",
    "for key in scores:\n",
    "    print('%s => %d' % (key, scores[key]))\n",
    "    \n",
    "# key만 출력하기\n",
    "print(scores.keys())\n",
    "\n",
    "# value만 출력하기\n",
    "print(scores.values())\n",
    "\n",
    "# (key,value)쌍으로 출력하기\n",
    "print(scores.items())\n",
    "\n",
    "for key, value in scores.items():\n",
    "    print (f'{key} => {value}')"
   ]
  }
 ],
 "metadata": {
  "kernelspec": {
   "display_name": "Python 3 (ipykernel)",
   "language": "python",
   "name": "python3"
  },
  "language_info": {
   "codemirror_mode": {
    "name": "ipython",
    "version": 3
   },
   "file_extension": ".py",
   "mimetype": "text/x-python",
   "name": "python",
   "nbconvert_exporter": "python",
   "pygments_lexer": "ipython3",
   "version": "3.9.10"
  }
 },
 "nbformat": 4,
 "nbformat_minor": 5
}
